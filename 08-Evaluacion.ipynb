{
 "cells": [
  {
   "cell_type": "markdown",
   "metadata": {},
   "source": [
    "**Recuerde no agregar o quitar celdas en este notebook, ni modificar su tipo. Si lo hace, el sistema automaticamente lo calificará con cero punto cero (0.0)**"
   ]
  },
  {
   "cell_type": "markdown",
   "metadata": {},
   "source": [
    "Ordene el archivo por letra y valor (3ra columna)."
   ]
  },
  {
   "cell_type": "code",
   "execution_count": 26,
   "metadata": {},
   "outputs": [
    {
     "name": "stdout",
     "output_type": "stream",
     "text": [
      "Writing input.txt\n"
     ]
    }
   ],
   "source": [
    "%%writefile input.txt\n",
    "B   1999-08-28   14\n",
    "E   1999-12-06   12\n",
    "E   1993-07-21   9\n",
    "C   1991-02-12   13\n",
    "E   1995-04-25   2\n",
    "A   1992-08-22   14\n",
    "B   1999-06-11   121\n",
    "E   1993-01-27   9\n",
    "E   1999-09-10   11\n",
    "E   1990-05-03   16\n",
    "E   1994-02-14   10\n",
    "A   1988-04-27   121\n",
    "A   1990-10-06   10\n",
    "E   1985-02-12   16\n",
    "E   1998-09-14   2\n",
    "B   1994-08-30   17\n",
    "A   1997-12-15   13\n",
    "B   1995-08-23   1\n",
    "B   1998-11-22   131\n",
    "B   1997-04-09   14\n",
    "E   1993-12-27   18\n",
    "E   1999-01-14   15\n",
    "A   1992-09-19   8\n",
    "B   1993-03-02   14\n",
    "B   1999-10-21   13\n",
    "A   1990-08-31   12\n",
    "C   1994-01-25   10\n",
    "E   1990-02-09   18\n",
    "A   1990-09-26   8\n",
    "A   1993-05-08   16\n",
    "B   1995-09-06   14\n",
    "E   1991-02-18   141\n",
    "A   1993-01-11   14\n",
    "A   1990-07-22   0\n",
    "C   1994-09-09   15\n",
    "C   1994-07-27   104\n",
    "D   1990-10-10   15\n",
    "A   1990-09-05   11\n",
    "B   1991-10-01   9\n",
    "A   1994-10-25   13"
   ]
  },
  {
   "cell_type": "markdown",
   "metadata": {},
   "source": [
    "## Mapper"
   ]
  },
  {
   "cell_type": "code",
   "execution_count": 27,
   "metadata": {},
   "outputs": [
    {
     "name": "stdout",
     "output_type": "stream",
     "text": [
      "Overwriting mapper.py\n"
     ]
    }
   ],
   "source": [
    "%%writefile mapper.py\n",
    "#! /usr/bin/env python\n",
    "\n",
    "import sys\n",
    "if __name__ == \"__main__\": \n",
    "        \n",
    "    for line in sys.stdin:\n",
    "        a=line.split()[0]\n",
    "        b=line.split()[2]\n",
    "        key = '{},{:0>4}'.format(a,b)\n",
    "        sys.stdout.write(\"{}\\t{}\".format(key,line))"
   ]
  },
  {
   "cell_type": "markdown",
   "metadata": {},
   "source": [
    "## Reducer"
   ]
  },
  {
   "cell_type": "code",
   "execution_count": 28,
   "metadata": {},
   "outputs": [
    {
     "name": "stdout",
     "output_type": "stream",
     "text": [
      "Overwriting reducer.py\n"
     ]
    }
   ],
   "source": [
    "%%writefile reducer.py\n",
    "#!/usr/bin/env python\n",
    "\n",
    "import sys\n",
    "if __name__ == '__main__': \n",
    "    c = sys.stdin.readlines()\n",
    "    for d in c:\n",
    "        f=d.replace('\\n','').split('\\t')[1]\n",
    "        if f != '\t':\n",
    "            sys.stdout.write(\"{}\\n\".format(f))"
   ]
  },
  {
   "cell_type": "markdown",
   "metadata": {},
   "source": [
    "## Ejecución"
   ]
  },
  {
   "cell_type": "code",
   "execution_count": 29,
   "metadata": {},
   "outputs": [
    {
     "name": "stdout",
     "output_type": "stream",
     "text": [
      "A   1990-07-22   0\t\n",
      "A   1990-09-26   8\t\n",
      "A   1992-09-19   8\t\n",
      "A   1990-10-06   10\t\n",
      "A   1990-09-05   11\t\n",
      "A   1990-08-31   12\t\n",
      "A   1997-12-15   13\t\n",
      "A   1994-10-25   13\t\n",
      "A   1993-01-11   14\t\n",
      "A   1992-08-22   14\t\n",
      "A   1993-05-08   16\t\n",
      "A   1988-04-27   121\t\n",
      "B   1995-08-23   1\t\n",
      "B   1991-10-01   9\t\n",
      "B   1999-10-21   13\t\n",
      "B   1997-04-09   14\t\n",
      "B   1995-09-06   14\t\n",
      "B   1993-03-02   14\t\n",
      "B   1999-08-28   14\t\n",
      "B   1994-08-30   17\t\n",
      "B   1999-06-11   121\t\n",
      "B   1998-11-22   131\t\n",
      "C   1994-01-25   10\t\n",
      "C   1991-02-12   13\t\n",
      "C   1994-09-09   15\t\n",
      "C   1994-07-27   104\t\n",
      "D   1990-10-10   15\t\n",
      "E   1998-09-14   2\t\n",
      "E   1995-04-25   2\t\n",
      "E   1993-07-21   9\t\n",
      "E   1993-01-27   9\t\n",
      "E   1994-02-14   10\t\n",
      "E   1999-09-10   11\t\n",
      "E   1999-12-06   12\t\n",
      "E   1999-01-14   15\t\n",
      "E   1990-05-03   16\t\n",
      "E   1985-02-12   16\t\n",
      "E   1990-02-09   18\t\n",
      "E   1993-12-27   18\t\n",
      "E   1991-02-18   141\t\n"
     ]
    },
    {
     "name": "stderr",
     "output_type": "stream",
     "text": [
      "2018-11-15 19:10:58,671 WARN util.NativeCodeLoader: Unable to load native-hadoop library for your platform... using builtin-java classes where applicable\n",
      "2018-11-15 19:10:59,519 INFO impl.MetricsConfig: loaded properties from hadoop-metrics2.properties\n",
      "2018-11-15 19:10:59,633 INFO impl.MetricsSystemImpl: Scheduled Metric snapshot period at 10 second(s).\n",
      "2018-11-15 19:10:59,633 INFO impl.MetricsSystemImpl: JobTracker metrics system started\n",
      "2018-11-15 19:10:59,661 WARN impl.MetricsSystemImpl: JobTracker metrics system already initialized!\n",
      "2018-11-15 19:11:00,285 INFO mapred.FileInputFormat: Total input files to process : 1\n",
      "2018-11-15 19:11:00,382 INFO mapreduce.JobSubmitter: number of splits:1\n",
      "2018-11-15 19:11:00,727 INFO mapreduce.JobSubmitter: Submitting tokens for job: job_local87499313_0001\n",
      "2018-11-15 19:11:00,730 INFO mapreduce.JobSubmitter: Executing with tokens: []\n",
      "2018-11-15 19:11:00,971 INFO mapreduce.Job: The url to track the job: http://localhost:8080/\n",
      "2018-11-15 19:11:00,974 INFO mapred.LocalJobRunner: OutputCommitter set in config null\n",
      "2018-11-15 19:11:00,974 INFO mapreduce.Job: Running job: job_local87499313_0001\n",
      "2018-11-15 19:11:00,977 INFO mapred.LocalJobRunner: OutputCommitter is org.apache.hadoop.mapred.FileOutputCommitter\n",
      "2018-11-15 19:11:00,984 INFO output.FileOutputCommitter: File Output Committer Algorithm version is 2\n",
      "2018-11-15 19:11:00,984 INFO output.FileOutputCommitter: FileOutputCommitter skip cleanup _temporary folders under output directory:false, ignore cleanup failures: false\n",
      "2018-11-15 19:11:01,093 INFO mapred.LocalJobRunner: Waiting for map tasks\n",
      "2018-11-15 19:11:01,098 INFO mapred.LocalJobRunner: Starting task: attempt_local87499313_0001_m_000000_0\n",
      "2018-11-15 19:11:01,145 INFO output.FileOutputCommitter: File Output Committer Algorithm version is 2\n",
      "2018-11-15 19:11:01,145 INFO output.FileOutputCommitter: FileOutputCommitter skip cleanup _temporary folders under output directory:false, ignore cleanup failures: false\n",
      "2018-11-15 19:11:01,164 INFO util.ProcfsBasedProcessTree: ProcfsBasedProcessTree currently is supported only on Linux.\n",
      "2018-11-15 19:11:01,164 INFO mapred.Task:  Using ResourceCalculatorProcessTree : null\n",
      "2018-11-15 19:11:01,181 INFO mapred.MapTask: Processing split: file:/Users/eduardogomez/Talleres_Analitica_Grandes_Datos/input.txt:0+795\n",
      "2018-11-15 19:11:01,200 INFO mapred.MapTask: numReduceTasks: 1\n",
      "2018-11-15 19:11:01,329 INFO mapred.MapTask: (EQUATOR) 0 kvi 26214396(104857584)\n",
      "2018-11-15 19:11:01,329 INFO mapred.MapTask: mapreduce.task.io.sort.mb: 100\n",
      "2018-11-15 19:11:01,329 INFO mapred.MapTask: soft limit at 83886080\n",
      "2018-11-15 19:11:01,329 INFO mapred.MapTask: bufstart = 0; bufvoid = 104857600\n",
      "2018-11-15 19:11:01,329 INFO mapred.MapTask: kvstart = 26214396; length = 6553600\n",
      "2018-11-15 19:11:01,333 INFO mapred.MapTask: Map output collector class = org.apache.hadoop.mapred.MapTask$MapOutputBuffer\n",
      "2018-11-15 19:11:01,349 INFO streaming.PipeMapRed: PipeMapRed exec [/Users/eduardogomez/Talleres_Analitica_Grandes_Datos/./mapper.py]\n",
      "2018-11-15 19:11:01,356 INFO Configuration.deprecation: mapred.work.output.dir is deprecated. Instead, use mapreduce.task.output.dir\n",
      "2018-11-15 19:11:01,358 INFO Configuration.deprecation: map.input.start is deprecated. Instead, use mapreduce.map.input.start\n",
      "2018-11-15 19:11:01,360 INFO Configuration.deprecation: mapred.task.is.map is deprecated. Instead, use mapreduce.task.ismap\n",
      "2018-11-15 19:11:01,361 INFO Configuration.deprecation: mapred.task.id is deprecated. Instead, use mapreduce.task.attempt.id\n",
      "2018-11-15 19:11:01,362 INFO Configuration.deprecation: mapred.tip.id is deprecated. Instead, use mapreduce.task.id\n",
      "2018-11-15 19:11:01,362 INFO Configuration.deprecation: mapred.local.dir is deprecated. Instead, use mapreduce.cluster.local.dir\n",
      "2018-11-15 19:11:01,363 INFO Configuration.deprecation: map.input.file is deprecated. Instead, use mapreduce.map.input.file\n",
      "2018-11-15 19:11:01,364 INFO Configuration.deprecation: mapred.skip.on is deprecated. Instead, use mapreduce.job.skiprecords\n",
      "2018-11-15 19:11:01,364 INFO Configuration.deprecation: map.input.length is deprecated. Instead, use mapreduce.map.input.length\n",
      "2018-11-15 19:11:01,365 INFO Configuration.deprecation: mapred.job.id is deprecated. Instead, use mapreduce.job.id\n",
      "2018-11-15 19:11:01,367 INFO Configuration.deprecation: user.name is deprecated. Instead, use mapreduce.job.user.name\n",
      "2018-11-15 19:11:01,367 INFO Configuration.deprecation: mapred.task.partition is deprecated. Instead, use mapreduce.task.partition\n",
      "2018-11-15 19:11:01,411 INFO streaming.PipeMapRed: R/W/S=1/0/0 in:NA [rec/s] out:NA [rec/s]\n",
      "2018-11-15 19:11:01,411 INFO streaming.PipeMapRed: R/W/S=10/0/0 in:NA [rec/s] out:NA [rec/s]\n",
      "2018-11-15 19:11:01,498 INFO streaming.PipeMapRed: Records R/W=40/1\n",
      "2018-11-15 19:11:01,503 INFO streaming.PipeMapRed: MRErrorThread done\n",
      "2018-11-15 19:11:01,503 INFO streaming.PipeMapRed: mapRedFinished\n",
      "2018-11-15 19:11:01,507 INFO mapred.LocalJobRunner: \n",
      "2018-11-15 19:11:01,507 INFO mapred.MapTask: Starting flush of map output\n",
      "2018-11-15 19:11:01,507 INFO mapred.MapTask: Spilling map output\n",
      "2018-11-15 19:11:01,507 INFO mapred.MapTask: bufstart = 0; bufend = 1076; bufvoid = 104857600\n",
      "2018-11-15 19:11:01,508 INFO mapred.MapTask: kvstart = 26214396(104857584); kvend = 26214240(104856960); length = 157/6553600\n",
      "2018-11-15 19:11:01,549 INFO mapred.MapTask: Finished spill 0\n",
      "2018-11-15 19:11:01,576 INFO mapred.Task: Task:attempt_local87499313_0001_m_000000_0 is done. And is in the process of committing\n",
      "2018-11-15 19:11:01,579 INFO mapred.LocalJobRunner: Records R/W=40/1\n",
      "2018-11-15 19:11:01,580 INFO mapred.Task: Task 'attempt_local87499313_0001_m_000000_0' done.\n",
      "2018-11-15 19:11:01,593 INFO mapred.Task: Final Counters for attempt_local87499313_0001_m_000000_0: Counters: 17\n",
      "\tFile System Counters\n",
      "\t\tFILE: Number of bytes read=177281\n",
      "\t\tFILE: Number of bytes written=682056\n",
      "\t\tFILE: Number of read operations=0\n",
      "\t\tFILE: Number of large read operations=0\n",
      "\t\tFILE: Number of write operations=0\n",
      "\tMap-Reduce Framework\n",
      "\t\tMap input records=40\n",
      "\t\tMap output records=40\n",
      "\t\tMap output bytes=1076\n",
      "\t\tMap output materialized bytes=1162\n",
      "\t\tInput split bytes=119\n",
      "\t\tCombine input records=0\n",
      "\t\tSpilled Records=40\n",
      "\t\tFailed Shuffles=0\n",
      "\t\tMerged Map outputs=0\n",
      "\t\tGC time elapsed (ms)=0\n",
      "\t\tTotal committed heap usage (bytes)=216006656\n",
      "\tFile Input Format Counters \n",
      "\t\tBytes Read=795\n",
      "2018-11-15 19:11:01,593 INFO mapred.LocalJobRunner: Finishing task: attempt_local87499313_0001_m_000000_0\n",
      "2018-11-15 19:11:01,594 INFO mapred.LocalJobRunner: map task executor complete.\n",
      "2018-11-15 19:11:01,598 INFO mapred.LocalJobRunner: Waiting for reduce tasks\n",
      "2018-11-15 19:11:01,598 INFO mapred.LocalJobRunner: Starting task: attempt_local87499313_0001_r_000000_0\n",
      "2018-11-15 19:11:01,616 INFO output.FileOutputCommitter: File Output Committer Algorithm version is 2\n",
      "2018-11-15 19:11:01,616 INFO output.FileOutputCommitter: FileOutputCommitter skip cleanup _temporary folders under output directory:false, ignore cleanup failures: false\n",
      "2018-11-15 19:11:01,617 INFO util.ProcfsBasedProcessTree: ProcfsBasedProcessTree currently is supported only on Linux.\n",
      "2018-11-15 19:11:01,617 INFO mapred.Task:  Using ResourceCalculatorProcessTree : null\n",
      "2018-11-15 19:11:01,623 INFO mapred.ReduceTask: Using ShuffleConsumerPlugin: org.apache.hadoop.mapreduce.task.reduce.Shuffle@7ffe7b38\n",
      "2018-11-15 19:11:01,626 WARN impl.MetricsSystemImpl: JobTracker metrics system already initialized!\n",
      "2018-11-15 19:11:01,650 INFO reduce.MergeManagerImpl: MergerManager: memoryLimit=668309888, maxSingleShuffleLimit=167077472, mergeThreshold=441084544, ioSortFactor=10, memToMemMergeOutputsThreshold=10\n",
      "2018-11-15 19:11:01,653 INFO reduce.EventFetcher: attempt_local87499313_0001_r_000000_0 Thread started: EventFetcher for fetching Map Completion Events\n",
      "2018-11-15 19:11:01,687 INFO reduce.LocalFetcher: localfetcher#1 about to shuffle output of map attempt_local87499313_0001_m_000000_0 decomp: 1158 len: 1162 to MEMORY\n",
      "2018-11-15 19:11:01,697 INFO reduce.InMemoryMapOutput: Read 1158 bytes from map-output for attempt_local87499313_0001_m_000000_0\n",
      "2018-11-15 19:11:01,699 INFO reduce.MergeManagerImpl: closeInMemoryFile -> map-output of size: 1158, inMemoryMapOutputs.size() -> 1, commitMemory -> 0, usedMemory ->1158\n",
      "2018-11-15 19:11:01,701 INFO reduce.EventFetcher: EventFetcher is interrupted.. Returning\n",
      "2018-11-15 19:11:01,702 INFO mapred.LocalJobRunner: 1 / 1 copied.\n",
      "2018-11-15 19:11:01,702 INFO reduce.MergeManagerImpl: finalMerge called with 1 in-memory map-outputs and 0 on-disk map-outputs\n",
      "2018-11-15 19:11:01,721 INFO mapred.Merger: Merging 1 sorted segments\n",
      "2018-11-15 19:11:01,721 INFO mapred.Merger: Down to the last merge-pass, with 1 segments left of total size: 1149 bytes\n",
      "2018-11-15 19:11:01,734 INFO reduce.MergeManagerImpl: Merged 1 segments, 1158 bytes to disk to satisfy reduce memory limit\n",
      "2018-11-15 19:11:01,735 INFO reduce.MergeManagerImpl: Merging 1 files, 1162 bytes from disk\n",
      "2018-11-15 19:11:01,736 INFO reduce.MergeManagerImpl: Merging 0 segments, 0 bytes from memory into reduce\n",
      "2018-11-15 19:11:01,736 INFO mapred.Merger: Merging 1 sorted segments\n",
      "2018-11-15 19:11:01,737 INFO mapred.Merger: Down to the last merge-pass, with 1 segments left of total size: 1149 bytes\n",
      "2018-11-15 19:11:01,738 INFO mapred.LocalJobRunner: 1 / 1 copied.\n",
      "2018-11-15 19:11:01,750 INFO streaming.PipeMapRed: PipeMapRed exec [/Users/eduardogomez/Talleres_Analitica_Grandes_Datos/./reducer.py]\n",
      "2018-11-15 19:11:01,753 INFO Configuration.deprecation: mapred.job.tracker is deprecated. Instead, use mapreduce.jobtracker.address\n",
      "2018-11-15 19:11:01,754 INFO Configuration.deprecation: mapred.map.tasks is deprecated. Instead, use mapreduce.job.maps\n",
      "2018-11-15 19:11:01,824 INFO streaming.PipeMapRed: R/W/S=1/0/0 in:NA [rec/s] out:NA [rec/s]\n",
      "2018-11-15 19:11:01,825 INFO streaming.PipeMapRed: R/W/S=10/0/0 in:NA [rec/s] out:NA [rec/s]\n",
      "2018-11-15 19:11:01,856 INFO streaming.PipeMapRed: Records R/W=40/1\n",
      "2018-11-15 19:11:01,862 INFO streaming.PipeMapRed: MRErrorThread done\n",
      "2018-11-15 19:11:01,863 INFO streaming.PipeMapRed: mapRedFinished\n",
      "2018-11-15 19:11:01,864 INFO mapred.Task: Task:attempt_local87499313_0001_r_000000_0 is done. And is in the process of committing\n",
      "2018-11-15 19:11:01,866 INFO mapred.LocalJobRunner: 1 / 1 copied.\n",
      "2018-11-15 19:11:01,866 INFO mapred.Task: Task attempt_local87499313_0001_r_000000_0 is allowed to commit now\n",
      "2018-11-15 19:11:01,869 INFO output.FileOutputCommitter: Saved output of task 'attempt_local87499313_0001_r_000000_0' to file:/Users/eduardogomez/Talleres_Analitica_Grandes_Datos/output\n",
      "2018-11-15 19:11:01,870 INFO mapred.LocalJobRunner: Records R/W=40/1 > reduce\n",
      "2018-11-15 19:11:01,870 INFO mapred.Task: Task 'attempt_local87499313_0001_r_000000_0' done.\n",
      "2018-11-15 19:11:01,871 INFO mapred.Task: Final Counters for attempt_local87499313_0001_r_000000_0: Counters: 24\n",
      "\tFile System Counters\n",
      "\t\tFILE: Number of bytes read=179637\n",
      "\t\tFILE: Number of bytes written=684070\n",
      "\t\tFILE: Number of read operations=0\n",
      "\t\tFILE: Number of large read operations=0\n",
      "\t\tFILE: Number of write operations=0\n",
      "\tMap-Reduce Framework\n",
      "\t\tCombine input records=0\n",
      "\t\tCombine output records=0\n",
      "\t\tReduce input groups=30\n",
      "\t\tReduce shuffle bytes=1162\n",
      "\t\tReduce input records=40\n",
      "\t\tReduce output records=40\n",
      "\t\tSpilled Records=40\n",
      "\t\tShuffled Maps =1\n",
      "\t\tFailed Shuffles=0\n",
      "\t\tMerged Map outputs=1\n",
      "\t\tGC time elapsed (ms)=0\n",
      "\t\tTotal committed heap usage (bytes)=216530944\n",
      "\tShuffle Errors\n",
      "\t\tBAD_ID=0\n",
      "\t\tCONNECTION=0\n",
      "\t\tIO_ERROR=0\n",
      "\t\tWRONG_LENGTH=0\n",
      "\t\tWRONG_MAP=0\n",
      "\t\tWRONG_REDUCE=0\n",
      "\tFile Output Format Counters \n",
      "\t\tBytes Written=852\n",
      "2018-11-15 19:11:01,871 INFO mapred.LocalJobRunner: Finishing task: attempt_local87499313_0001_r_000000_0\n",
      "2018-11-15 19:11:01,871 INFO mapred.LocalJobRunner: reduce task executor complete.\n",
      "2018-11-15 19:11:01,988 INFO mapreduce.Job: Job job_local87499313_0001 running in uber mode : false\n",
      "2018-11-15 19:11:01,990 INFO mapreduce.Job:  map 100% reduce 100%\n",
      "2018-11-15 19:11:01,992 INFO mapreduce.Job: Job job_local87499313_0001 completed successfully\n",
      "2018-11-15 19:11:02,005 INFO mapreduce.Job: Counters: 30\n",
      "\tFile System Counters\n",
      "\t\tFILE: Number of bytes read=356918\n",
      "\t\tFILE: Number of bytes written=1366126\n",
      "\t\tFILE: Number of read operations=0\n",
      "\t\tFILE: Number of large read operations=0\n",
      "\t\tFILE: Number of write operations=0\n",
      "\tMap-Reduce Framework\n",
      "\t\tMap input records=40\n",
      "\t\tMap output records=40\n",
      "\t\tMap output bytes=1076\n",
      "\t\tMap output materialized bytes=1162\n",
      "\t\tInput split bytes=119\n",
      "\t\tCombine input records=0\n",
      "\t\tCombine output records=0\n",
      "\t\tReduce input groups=30\n",
      "\t\tReduce shuffle bytes=1162\n",
      "\t\tReduce input records=40\n",
      "\t\tReduce output records=40\n",
      "\t\tSpilled Records=80\n",
      "\t\tShuffled Maps =1\n",
      "\t\tFailed Shuffles=0\n",
      "\t\tMerged Map outputs=1\n",
      "\t\tGC time elapsed (ms)=0\n",
      "\t\tTotal committed heap usage (bytes)=432537600\n",
      "\tShuffle Errors\n",
      "\t\tBAD_ID=0\n",
      "\t\tCONNECTION=0\n",
      "\t\tIO_ERROR=0\n",
      "\t\tWRONG_LENGTH=0\n",
      "\t\tWRONG_MAP=0\n",
      "\t\tWRONG_REDUCE=0\n",
      "\tFile Input Format Counters \n",
      "\t\tBytes Read=795\n",
      "\tFile Output Format Counters \n",
      "\t\tBytes Written=852\n",
      "2018-11-15 19:11:02,005 INFO streaming.StreamJob: Output directory: output\n"
     ]
    }
   ],
   "source": [
    "%%bash\n",
    "rm -rf output\n",
    "STREAM=$HADOOP_HOME/share/hadoop/tools/lib/hadoop-streaming-*.jar\n",
    "chmod +x mapper.py\n",
    "chmod +x reducer.py\n",
    "hadoop jar $STREAM -input input.txt -output output  -mapper mapper.py -reducer reducer.py\n",
    "cat output/part-00000"
   ]
  },
  {
   "cell_type": "code",
   "execution_count": 14,
   "metadata": {},
   "outputs": [],
   "source": [
    "!rm -rf mapper.py reducer.py output input.txt"
   ]
  },
  {
   "cell_type": "markdown",
   "metadata": {},
   "source": [
    "---"
   ]
  },
  {
   "cell_type": "markdown",
   "metadata": {},
   "source": [
    "Para realizar la evaluación automática de este libro:\n",
    "\n",
    "* Abra un Terminal.\n",
    "* Asegurece que esat en la misma carpeta que contiene este notebook.\n",
    "* Salve el notebook.\n",
    "* Ejecute el siguiente comando:\n",
    "\n",
    "      ./gradetool 08-Taller.ipynb"
   ]
  },
  {
   "cell_type": "markdown",
   "metadata": {},
   "source": [
    "---"
   ]
  }
 ],
 "metadata": {
  "kernelspec": {
   "display_name": "Python 3",
   "language": "python",
   "name": "python3"
  },
  "language_info": {
   "codemirror_mode": {
    "name": "ipython",
    "version": 3
   },
   "file_extension": ".py",
   "mimetype": "text/x-python",
   "name": "python",
   "nbconvert_exporter": "python",
   "pygments_lexer": "ipython3",
   "version": "3.6.5"
  },
  "toc": {
   "base_numbering": 1,
   "nav_menu": {},
   "number_sections": false,
   "sideBar": true,
   "skip_h1_title": true,
   "title_cell": "Table of Contents",
   "title_sidebar": "Contents",
   "toc_cell": false,
   "toc_position": {},
   "toc_section_display": true,
   "toc_window_display": true
  },
  "toc-autonumbering": false
 },
 "nbformat": 4,
 "nbformat_minor": 2
}
