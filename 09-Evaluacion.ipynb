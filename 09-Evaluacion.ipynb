{
 "cells": [
  {
   "cell_type": "markdown",
   "metadata": {},
   "source": [
    "**Recuerde no agregar o quitar celdas en este notebook, ni modificar su tipo. Si lo hace, el sistema automaticamente lo calificará con cero punto cero (0.0)**"
   ]
  },
  {
   "cell_type": "markdown",
   "metadata": {},
   "source": [
    "Compute la suma y el promedio de la tercera columna por letra."
   ]
  },
  {
   "cell_type": "code",
   "execution_count": 11,
   "metadata": {},
   "outputs": [
    {
     "name": "stdout",
     "output_type": "stream",
     "text": [
      "Writing input.txt\n"
     ]
    }
   ],
   "source": [
    "%%writefile input.txt\n",
    "B   1999-08-28   14\n",
    "E   1999-12-06   12\n",
    "E   1993-07-21   17\n",
    "C   1991-02-12   13\n",
    "E   1995-04-25   16\n",
    "A   1992-08-22   14\n",
    "B   1999-06-11   12\n",
    "E   1993-01-27   13\n",
    "E   1999-09-10   11\n",
    "E   1990-05-03   16\n",
    "E   1994-02-14   10\n",
    "A   1988-04-27   12\n",
    "A   1990-10-06   10\n",
    "E   1985-02-12   16\n",
    "E   1998-09-14   16\n",
    "B   1994-08-30   17\n",
    "A   1997-12-15   13\n",
    "B   1995-08-23   10\n",
    "B   1998-11-22   13\n",
    "B   1997-04-09   14\n",
    "E   1993-12-27   18\n",
    "E   1999-01-14   15\n",
    "A   1992-09-19   18\n",
    "B   1993-03-02   14\n",
    "B   1999-10-21   13\n",
    "A   1990-08-31   12\n",
    "C   1994-01-25   10\n",
    "E   1990-02-09   18\n",
    "A   1990-09-26   14\n",
    "A   1993-05-08   16\n",
    "B   1995-09-06   14\n",
    "E   1991-02-18   14\n",
    "A   1993-01-11   14\n",
    "A   1990-07-22   18\n",
    "C   1994-09-09   15\n",
    "C   1994-07-27   10\n",
    "D   1990-10-10   15\n",
    "A   1990-09-05   11\n",
    "B   1991-10-01   15\n",
    "A   1994-10-25   13"
   ]
  },
  {
   "cell_type": "markdown",
   "metadata": {},
   "source": [
    "## Mapper"
   ]
  },
  {
   "cell_type": "code",
   "execution_count": 12,
   "metadata": {},
   "outputs": [
    {
     "name": "stdout",
     "output_type": "stream",
     "text": [
      "Writing mapper.py\n"
     ]
    }
   ],
   "source": [
    "%%writefile mapper.py\n",
    "#! /usr/bin/env python\n",
    "\n",
    "import sys\n",
    "if __name__ == \"__main__\": \n",
    "    for line in sys.stdin:\n",
    "        letter = line.split()[0]\n",
    "        data = line.split()[2]\n",
    "        data = eval(data)\n",
    "        sys.stdout.write(\"{}\\t{}\\n\".format(letter,data))\n",
    "    sys.stdout.write(\"{}\\t1\\n\".format('end'))\n",
    "    pass"
   ]
  },
  {
   "cell_type": "markdown",
   "metadata": {},
   "source": [
    "## Reducer"
   ]
  },
  {
   "cell_type": "code",
   "execution_count": 13,
   "metadata": {},
   "outputs": [
    {
     "name": "stdout",
     "output_type": "stream",
     "text": [
      "Writing reducer.py\n"
     ]
    }
   ],
   "source": [
    "%%writefile reducer.py\n",
    "#!/usr/bin/env python\n",
    "\n",
    "import sys\n",
    "if __name__ == '__main__': \n",
    "  \n",
    "    curkey = None\n",
    "    tot = 0\n",
    "    n=0\n",
    "    for line in sys.stdin:\n",
    "        key, val = line.split(\"\\t\") \n",
    "        val = float(val)\n",
    "        n=n+1\n",
    "        if key == curkey: \n",
    "            tot += val\n",
    "        else:\n",
    "            if curkey is not None or key == 'end':\n",
    "                sys.stdout.write(\"{}\\t{}\\t{}\\n\".format(curkey,tot,float(tot)/float(n)))\n",
    "            curkey = key\n",
    "            tot = val\n",
    "            n=0\n",
    "            pass"
   ]
  },
  {
   "cell_type": "markdown",
   "metadata": {},
   "source": [
    "## Ejecución"
   ]
  },
  {
   "cell_type": "code",
   "execution_count": 14,
   "metadata": {},
   "outputs": [
    {
     "name": "stdout",
     "output_type": "stream",
     "text": [
      "A\t165.0\t13.75\n",
      "B\t136.0\t13.6\n",
      "C\t48.0\t12.0\n",
      "D\t15.0\t15.0\n",
      "E\t192.0\t14.76923076923077\n"
     ]
    },
    {
     "name": "stderr",
     "output_type": "stream",
     "text": [
      "2018-11-05 17:02:09,128 WARN util.NativeCodeLoader: Unable to load native-hadoop library for your platform... using builtin-java classes where applicable\n",
      "2018-11-05 17:02:09,972 INFO impl.MetricsConfig: loaded properties from hadoop-metrics2.properties\n",
      "2018-11-05 17:02:10,084 INFO impl.MetricsSystemImpl: Scheduled Metric snapshot period at 10 second(s).\n",
      "2018-11-05 17:02:10,084 INFO impl.MetricsSystemImpl: JobTracker metrics system started\n",
      "2018-11-05 17:02:10,113 WARN impl.MetricsSystemImpl: JobTracker metrics system already initialized!\n",
      "2018-11-05 17:02:10,720 INFO mapred.FileInputFormat: Total input files to process : 1\n",
      "2018-11-05 17:02:10,820 INFO mapreduce.JobSubmitter: number of splits:1\n",
      "2018-11-05 17:02:11,147 INFO mapreduce.JobSubmitter: Submitting tokens for job: job_local331896556_0001\n",
      "2018-11-05 17:02:11,149 INFO mapreduce.JobSubmitter: Executing with tokens: []\n",
      "2018-11-05 17:02:11,387 INFO mapreduce.Job: The url to track the job: http://localhost:8080/\n",
      "2018-11-05 17:02:11,390 INFO mapred.LocalJobRunner: OutputCommitter set in config null\n",
      "2018-11-05 17:02:11,391 INFO mapreduce.Job: Running job: job_local331896556_0001\n",
      "2018-11-05 17:02:11,393 INFO mapred.LocalJobRunner: OutputCommitter is org.apache.hadoop.mapred.FileOutputCommitter\n",
      "2018-11-05 17:02:11,403 INFO output.FileOutputCommitter: File Output Committer Algorithm version is 2\n",
      "2018-11-05 17:02:11,403 INFO output.FileOutputCommitter: FileOutputCommitter skip cleanup _temporary folders under output directory:false, ignore cleanup failures: false\n",
      "2018-11-05 17:02:11,502 INFO mapred.LocalJobRunner: Waiting for map tasks\n",
      "2018-11-05 17:02:11,509 INFO mapred.LocalJobRunner: Starting task: attempt_local331896556_0001_m_000000_0\n",
      "2018-11-05 17:02:11,551 INFO output.FileOutputCommitter: File Output Committer Algorithm version is 2\n",
      "2018-11-05 17:02:11,551 INFO output.FileOutputCommitter: FileOutputCommitter skip cleanup _temporary folders under output directory:false, ignore cleanup failures: false\n",
      "2018-11-05 17:02:11,566 INFO util.ProcfsBasedProcessTree: ProcfsBasedProcessTree currently is supported only on Linux.\n",
      "2018-11-05 17:02:11,567 INFO mapred.Task:  Using ResourceCalculatorProcessTree : null\n",
      "2018-11-05 17:02:11,583 INFO mapred.MapTask: Processing split: file:/Users/eduardogomez/Talleres_Analitica_Grandes_Datos/input.txt:0+799\n",
      "2018-11-05 17:02:11,601 INFO mapred.MapTask: numReduceTasks: 1\n",
      "2018-11-05 17:02:11,723 INFO mapred.MapTask: (EQUATOR) 0 kvi 26214396(104857584)\n",
      "2018-11-05 17:02:11,723 INFO mapred.MapTask: mapreduce.task.io.sort.mb: 100\n",
      "2018-11-05 17:02:11,724 INFO mapred.MapTask: soft limit at 83886080\n",
      "2018-11-05 17:02:11,724 INFO mapred.MapTask: bufstart = 0; bufvoid = 104857600\n",
      "2018-11-05 17:02:11,724 INFO mapred.MapTask: kvstart = 26214396; length = 6553600\n",
      "2018-11-05 17:02:11,728 INFO mapred.MapTask: Map output collector class = org.apache.hadoop.mapred.MapTask$MapOutputBuffer\n",
      "2018-11-05 17:02:11,741 INFO streaming.PipeMapRed: PipeMapRed exec [/Users/eduardogomez/Talleres_Analitica_Grandes_Datos/./mapper.py]\n",
      "2018-11-05 17:02:11,750 INFO Configuration.deprecation: mapred.work.output.dir is deprecated. Instead, use mapreduce.task.output.dir\n",
      "2018-11-05 17:02:11,751 INFO Configuration.deprecation: map.input.start is deprecated. Instead, use mapreduce.map.input.start\n",
      "2018-11-05 17:02:11,752 INFO Configuration.deprecation: mapred.task.is.map is deprecated. Instead, use mapreduce.task.ismap\n",
      "2018-11-05 17:02:11,752 INFO Configuration.deprecation: mapred.task.id is deprecated. Instead, use mapreduce.task.attempt.id\n",
      "2018-11-05 17:02:11,753 INFO Configuration.deprecation: mapred.tip.id is deprecated. Instead, use mapreduce.task.id\n",
      "2018-11-05 17:02:11,753 INFO Configuration.deprecation: mapred.local.dir is deprecated. Instead, use mapreduce.cluster.local.dir\n",
      "2018-11-05 17:02:11,754 INFO Configuration.deprecation: map.input.file is deprecated. Instead, use mapreduce.map.input.file\n",
      "2018-11-05 17:02:11,754 INFO Configuration.deprecation: mapred.skip.on is deprecated. Instead, use mapreduce.job.skiprecords\n",
      "2018-11-05 17:02:11,755 INFO Configuration.deprecation: map.input.length is deprecated. Instead, use mapreduce.map.input.length\n",
      "2018-11-05 17:02:11,756 INFO Configuration.deprecation: mapred.job.id is deprecated. Instead, use mapreduce.job.id\n",
      "2018-11-05 17:02:11,757 INFO Configuration.deprecation: user.name is deprecated. Instead, use mapreduce.job.user.name\n",
      "2018-11-05 17:02:11,757 INFO Configuration.deprecation: mapred.task.partition is deprecated. Instead, use mapreduce.task.partition\n",
      "2018-11-05 17:02:11,793 INFO streaming.PipeMapRed: R/W/S=1/0/0 in:NA [rec/s] out:NA [rec/s]\n",
      "2018-11-05 17:02:11,793 INFO streaming.PipeMapRed: R/W/S=10/0/0 in:NA [rec/s] out:NA [rec/s]\n",
      "2018-11-05 17:02:11,863 INFO streaming.PipeMapRed: Records R/W=40/1\n",
      "2018-11-05 17:02:11,867 INFO streaming.PipeMapRed: MRErrorThread done\n",
      "2018-11-05 17:02:11,867 INFO streaming.PipeMapRed: mapRedFinished\n",
      "2018-11-05 17:02:11,871 INFO mapred.LocalJobRunner: \n",
      "2018-11-05 17:02:11,871 INFO mapred.MapTask: Starting flush of map output\n",
      "2018-11-05 17:02:11,872 INFO mapred.MapTask: Spilling map output\n",
      "2018-11-05 17:02:11,872 INFO mapred.MapTask: bufstart = 0; bufend = 206; bufvoid = 104857600\n",
      "2018-11-05 17:02:11,872 INFO mapred.MapTask: kvstart = 26214396(104857584); kvend = 26214236(104856944); length = 161/6553600\n",
      "2018-11-05 17:02:11,914 INFO mapred.MapTask: Finished spill 0\n",
      "2018-11-05 17:02:11,939 INFO mapred.Task: Task:attempt_local331896556_0001_m_000000_0 is done. And is in the process of committing\n",
      "2018-11-05 17:02:11,942 INFO mapred.LocalJobRunner: Records R/W=40/1\n",
      "2018-11-05 17:02:11,942 INFO mapred.Task: Task 'attempt_local331896556_0001_m_000000_0' done.\n",
      "2018-11-05 17:02:11,956 INFO mapred.Task: Final Counters for attempt_local331896556_0001_m_000000_0: Counters: 17\n",
      "\tFile System Counters\n",
      "\t\tFILE: Number of bytes read=177285\n",
      "\t\tFILE: Number of bytes written=683618\n",
      "\t\tFILE: Number of read operations=0\n",
      "\t\tFILE: Number of large read operations=0\n",
      "\t\tFILE: Number of write operations=0\n",
      "\tMap-Reduce Framework\n",
      "\t\tMap input records=40\n",
      "\t\tMap output records=41\n",
      "\t\tMap output bytes=206\n",
      "\t\tMap output materialized bytes=294\n",
      "\t\tInput split bytes=119\n",
      "\t\tCombine input records=0\n",
      "\t\tSpilled Records=41\n",
      "\t\tFailed Shuffles=0\n",
      "\t\tMerged Map outputs=0\n",
      "\t\tGC time elapsed (ms)=0\n",
      "\t\tTotal committed heap usage (bytes)=217579520\n",
      "\tFile Input Format Counters \n",
      "\t\tBytes Read=799\n",
      "2018-11-05 17:02:11,956 INFO mapred.LocalJobRunner: Finishing task: attempt_local331896556_0001_m_000000_0\n",
      "2018-11-05 17:02:11,957 INFO mapred.LocalJobRunner: map task executor complete.\n",
      "2018-11-05 17:02:11,961 INFO mapred.LocalJobRunner: Waiting for reduce tasks\n",
      "2018-11-05 17:02:11,961 INFO mapred.LocalJobRunner: Starting task: attempt_local331896556_0001_r_000000_0\n",
      "2018-11-05 17:02:11,980 INFO output.FileOutputCommitter: File Output Committer Algorithm version is 2\n",
      "2018-11-05 17:02:11,980 INFO output.FileOutputCommitter: FileOutputCommitter skip cleanup _temporary folders under output directory:false, ignore cleanup failures: false\n",
      "2018-11-05 17:02:11,981 INFO util.ProcfsBasedProcessTree: ProcfsBasedProcessTree currently is supported only on Linux.\n",
      "2018-11-05 17:02:11,981 INFO mapred.Task:  Using ResourceCalculatorProcessTree : null\n",
      "2018-11-05 17:02:11,985 INFO mapred.ReduceTask: Using ShuffleConsumerPlugin: org.apache.hadoop.mapreduce.task.reduce.Shuffle@5e826ae6\n",
      "2018-11-05 17:02:11,988 WARN impl.MetricsSystemImpl: JobTracker metrics system already initialized!\n",
      "2018-11-05 17:02:12,014 INFO reduce.MergeManagerImpl: MergerManager: memoryLimit=668309888, maxSingleShuffleLimit=167077472, mergeThreshold=441084544, ioSortFactor=10, memToMemMergeOutputsThreshold=10\n",
      "2018-11-05 17:02:12,018 INFO reduce.EventFetcher: attempt_local331896556_0001_r_000000_0 Thread started: EventFetcher for fetching Map Completion Events\n",
      "2018-11-05 17:02:12,053 INFO reduce.LocalFetcher: localfetcher#1 about to shuffle output of map attempt_local331896556_0001_m_000000_0 decomp: 290 len: 294 to MEMORY\n",
      "2018-11-05 17:02:12,063 INFO reduce.InMemoryMapOutput: Read 290 bytes from map-output for attempt_local331896556_0001_m_000000_0\n",
      "2018-11-05 17:02:12,065 INFO reduce.MergeManagerImpl: closeInMemoryFile -> map-output of size: 290, inMemoryMapOutputs.size() -> 1, commitMemory -> 0, usedMemory ->290\n",
      "2018-11-05 17:02:12,067 INFO reduce.EventFetcher: EventFetcher is interrupted.. Returning\n",
      "2018-11-05 17:02:12,068 INFO mapred.LocalJobRunner: 1 / 1 copied.\n",
      "2018-11-05 17:02:12,069 INFO reduce.MergeManagerImpl: finalMerge called with 1 in-memory map-outputs and 0 on-disk map-outputs\n",
      "2018-11-05 17:02:12,089 INFO mapred.Merger: Merging 1 sorted segments\n",
      "2018-11-05 17:02:12,090 INFO mapred.Merger: Down to the last merge-pass, with 1 segments left of total size: 286 bytes\n",
      "2018-11-05 17:02:12,103 INFO reduce.MergeManagerImpl: Merged 1 segments, 290 bytes to disk to satisfy reduce memory limit\n",
      "2018-11-05 17:02:12,104 INFO reduce.MergeManagerImpl: Merging 1 files, 294 bytes from disk\n",
      "2018-11-05 17:02:12,106 INFO reduce.MergeManagerImpl: Merging 0 segments, 0 bytes from memory into reduce\n",
      "2018-11-05 17:02:12,107 INFO mapred.Merger: Merging 1 sorted segments\n",
      "2018-11-05 17:02:12,108 INFO mapred.Merger: Down to the last merge-pass, with 1 segments left of total size: 286 bytes\n",
      "2018-11-05 17:02:12,109 INFO mapred.LocalJobRunner: 1 / 1 copied.\n",
      "2018-11-05 17:02:12,122 INFO streaming.PipeMapRed: PipeMapRed exec [/Users/eduardogomez/Talleres_Analitica_Grandes_Datos/./reducer.py]\n",
      "2018-11-05 17:02:12,125 INFO Configuration.deprecation: mapred.job.tracker is deprecated. Instead, use mapreduce.jobtracker.address\n",
      "2018-11-05 17:02:12,126 INFO Configuration.deprecation: mapred.map.tasks is deprecated. Instead, use mapreduce.job.maps\n",
      "2018-11-05 17:02:12,192 INFO streaming.PipeMapRed: R/W/S=1/0/0 in:NA [rec/s] out:NA [rec/s]\n",
      "2018-11-05 17:02:12,193 INFO streaming.PipeMapRed: R/W/S=10/0/0 in:NA [rec/s] out:NA [rec/s]\n",
      "2018-11-05 17:02:12,223 INFO streaming.PipeMapRed: Records R/W=41/1\n",
      "2018-11-05 17:02:12,229 INFO streaming.PipeMapRed: MRErrorThread done\n",
      "2018-11-05 17:02:12,229 INFO streaming.PipeMapRed: mapRedFinished\n",
      "2018-11-05 17:02:12,231 INFO mapred.Task: Task:attempt_local331896556_0001_r_000000_0 is done. And is in the process of committing\n",
      "2018-11-05 17:02:12,232 INFO mapred.LocalJobRunner: 1 / 1 copied.\n",
      "2018-11-05 17:02:12,232 INFO mapred.Task: Task attempt_local331896556_0001_r_000000_0 is allowed to commit now\n",
      "2018-11-05 17:02:12,235 INFO output.FileOutputCommitter: Saved output of task 'attempt_local331896556_0001_r_000000_0' to file:/Users/eduardogomez/Talleres_Analitica_Grandes_Datos/output\n",
      "2018-11-05 17:02:12,237 INFO mapred.LocalJobRunner: Records R/W=41/1 > reduce\n",
      "2018-11-05 17:02:12,237 INFO mapred.Task: Task 'attempt_local331896556_0001_r_000000_0' done.\n",
      "2018-11-05 17:02:12,238 INFO mapred.Task: Final Counters for attempt_local331896556_0001_r_000000_0: Counters: 24\n",
      "\tFile System Counters\n",
      "\t\tFILE: Number of bytes read=177905\n",
      "\t\tFILE: Number of bytes written=684001\n",
      "\t\tFILE: Number of read operations=0\n",
      "\t\tFILE: Number of large read operations=0\n",
      "\t\tFILE: Number of write operations=0\n",
      "\tMap-Reduce Framework\n",
      "\t\tCombine input records=0\n",
      "\t\tCombine output records=0\n",
      "\t\tReduce input groups=6\n",
      "\t\tReduce shuffle bytes=294\n",
      "\t\tReduce input records=41\n",
      "\t\tReduce output records=5\n",
      "\t\tSpilled Records=41\n",
      "\t\tShuffled Maps =1\n",
      "\t\tFailed Shuffles=0\n",
      "\t\tMerged Map outputs=1\n",
      "\t\tGC time elapsed (ms)=0\n",
      "\t\tTotal committed heap usage (bytes)=218103808\n",
      "\tShuffle Errors\n",
      "\t\tBAD_ID=0\n",
      "\t\tCONNECTION=0\n",
      "\t\tIO_ERROR=0\n",
      "\t\tWRONG_LENGTH=0\n",
      "\t\tWRONG_MAP=0\n",
      "\t\tWRONG_REDUCE=0\n",
      "\tFile Output Format Counters \n",
      "\t\tBytes Written=89\n",
      "2018-11-05 17:02:12,238 INFO mapred.LocalJobRunner: Finishing task: attempt_local331896556_0001_r_000000_0\n",
      "2018-11-05 17:02:12,238 INFO mapred.LocalJobRunner: reduce task executor complete.\n",
      "2018-11-05 17:02:12,407 INFO mapreduce.Job: Job job_local331896556_0001 running in uber mode : false\n",
      "2018-11-05 17:02:12,409 INFO mapreduce.Job:  map 100% reduce 100%\n",
      "2018-11-05 17:02:12,411 INFO mapreduce.Job: Job job_local331896556_0001 completed successfully\n",
      "2018-11-05 17:02:12,425 INFO mapreduce.Job: Counters: 30\n",
      "\tFile System Counters\n",
      "\t\tFILE: Number of bytes read=355190\n",
      "\t\tFILE: Number of bytes written=1367619\n",
      "\t\tFILE: Number of read operations=0\n",
      "\t\tFILE: Number of large read operations=0\n",
      "\t\tFILE: Number of write operations=0\n",
      "\tMap-Reduce Framework\n",
      "\t\tMap input records=40\n",
      "\t\tMap output records=41\n",
      "\t\tMap output bytes=206\n",
      "\t\tMap output materialized bytes=294\n",
      "\t\tInput split bytes=119\n",
      "\t\tCombine input records=0\n",
      "\t\tCombine output records=0\n",
      "\t\tReduce input groups=6\n",
      "\t\tReduce shuffle bytes=294\n",
      "\t\tReduce input records=41\n",
      "\t\tReduce output records=5\n",
      "\t\tSpilled Records=82\n",
      "\t\tShuffled Maps =1\n",
      "\t\tFailed Shuffles=0\n",
      "\t\tMerged Map outputs=1\n",
      "\t\tGC time elapsed (ms)=0\n",
      "\t\tTotal committed heap usage (bytes)=435683328\n",
      "\tShuffle Errors\n",
      "\t\tBAD_ID=0\n",
      "\t\tCONNECTION=0\n",
      "\t\tIO_ERROR=0\n",
      "\t\tWRONG_LENGTH=0\n",
      "\t\tWRONG_MAP=0\n",
      "\t\tWRONG_REDUCE=0\n",
      "\tFile Input Format Counters \n",
      "\t\tBytes Read=799\n",
      "\tFile Output Format Counters \n",
      "\t\tBytes Written=89\n",
      "2018-11-05 17:02:12,425 INFO streaming.StreamJob: Output directory: output\n"
     ]
    }
   ],
   "source": [
    "%%bash\n",
    "rm -rf output\n",
    "STREAM=$HADOOP_HOME/share/hadoop/tools/lib/hadoop-streaming-*.jar\n",
    "chmod +x mapper.py\n",
    "chmod +x reducer.py\n",
    "hadoop jar $STREAM -input input.txt -output output  -mapper mapper.py -reducer reducer.py\n",
    "cat output/part-00000"
   ]
  },
  {
   "cell_type": "code",
   "execution_count": null,
   "metadata": {},
   "outputs": [],
   "source": [
    "!rm -rf mapper.py reducer.py output input.txt"
   ]
  },
  {
   "cell_type": "markdown",
   "metadata": {},
   "source": [
    "---"
   ]
  },
  {
   "cell_type": "markdown",
   "metadata": {},
   "source": [
    "Para realizar la evaluación automática de este libro:\n",
    "\n",
    "* Abra un Terminal.\n",
    "* Asegurece que esat en la misma carpeta que contiene este notebook.\n",
    "* Salve el notebook.\n",
    "* Ejecute el siguiente comando:\n",
    "\n",
    "      ./gradetool 09-Taller.ipynb"
   ]
  },
  {
   "cell_type": "markdown",
   "metadata": {},
   "source": [
    "---"
   ]
  }
 ],
 "metadata": {
  "kernelspec": {
   "display_name": "Python 3",
   "language": "python",
   "name": "python3"
  },
  "language_info": {
   "codemirror_mode": {
    "name": "ipython",
    "version": 3
   },
   "file_extension": ".py",
   "mimetype": "text/x-python",
   "name": "python",
   "nbconvert_exporter": "python",
   "pygments_lexer": "ipython3",
   "version": "3.6.5"
  },
  "toc": {
   "base_numbering": 1,
   "nav_menu": {},
   "number_sections": false,
   "sideBar": true,
   "skip_h1_title": true,
   "title_cell": "Table of Contents",
   "title_sidebar": "Contents",
   "toc_cell": false,
   "toc_position": {},
   "toc_section_display": true,
   "toc_window_display": true
  },
  "toc-autonumbering": false
 },
 "nbformat": 4,
 "nbformat_minor": 2
}
