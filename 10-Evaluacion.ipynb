{
 "cells": [
  {
   "cell_type": "markdown",
   "metadata": {},
   "source": [
    "**Recuerde no agregar o quitar celdas en este notebook, ni modificar su tipo. Si lo hace, el sistema automaticamente lo calificará con cero punto cero (0.0)**"
   ]
  },
  {
   "cell_type": "markdown",
   "metadata": {},
   "source": [
    "Obtenga los 5 registros con valores más pequeños en la tercera columna."
   ]
  },
  {
   "cell_type": "code",
   "execution_count": 9,
   "metadata": {},
   "outputs": [
    {
     "name": "stdout",
     "output_type": "stream",
     "text": [
      "Overwriting input.txt\n"
     ]
    }
   ],
   "source": [
    "%%writefile input.txt\n",
    "B   1999-08-28   14\n",
    "E   1999-12-06   121\n",
    "E   1993-07-21   17\n",
    "C   1991-02-12   2\n",
    "E   1995-04-25   161\n",
    "A   1992-08-22   14\n",
    "B   1999-06-11   12\n",
    "E   1993-01-27   8\n",
    "E   1999-09-10   11\n",
    "E   1990-05-03   16\n",
    "E   1994-02-14   101\n",
    "A   1988-04-27   9\n",
    "A   1990-10-06   10\n",
    "E   1985-02-12   16\n",
    "E   1998-09-14   7\n",
    "B   1994-08-30   17\n",
    "A   1997-12-15   13\n",
    "B   1995-08-23   101\n",
    "B   1998-11-22   13\n",
    "B   1997-04-09   6\n",
    "E   1993-12-27   181\n",
    "E   1999-01-14   15\n",
    "A   1992-09-19   18\n",
    "B   1993-03-02   14\n",
    "B   1999-10-21   131\n",
    "A   1990-08-31   12\n",
    "C   1994-01-25   10\n",
    "E   1990-02-09   18\n",
    "A   1990-09-26   5\n",
    "A   1993-05-08   16\n",
    "B   1995-09-06   141\n",
    "E   1991-02-18   14\n",
    "A   1993-01-11   141\n",
    "A   1990-07-22   4\n",
    "C   1994-09-09   151\n",
    "C   1994-07-27   1\n",
    "D   1990-10-10   151\n",
    "A   1990-09-05   11\n",
    "B   1991-10-01   151\n",
    "A   1994-10-25   13"
   ]
  },
  {
   "cell_type": "markdown",
   "metadata": {},
   "source": [
    "## Mapper"
   ]
  },
  {
   "cell_type": "code",
   "execution_count": 10,
   "metadata": {},
   "outputs": [
    {
     "name": "stdout",
     "output_type": "stream",
     "text": [
      "Overwriting mapper.py\n"
     ]
    }
   ],
   "source": [
    "%%writefile mapper.py\n",
    "#! /usr/bin/env python\n",
    "\n",
    "import sys\n",
    "if __name__ == \"__main__\": \n",
    "    for line in sys.stdin:\n",
    "        for word in line.split('\\t'):\n",
    "            letter=word[0]\n",
    "            date=word[1:-4].replace(' ','')\n",
    "            data=word[-5:].replace('\\n','').replace(' ','')\n",
    "            sys.stdout.write(\"{}\\t{}\\t{}\\n\".format(str(data).zfill(4),date,letter))\n",
    "            pass"
   ]
  },
  {
   "cell_type": "markdown",
   "metadata": {},
   "source": [
    "## Reducer"
   ]
  },
  {
   "cell_type": "code",
   "execution_count": 11,
   "metadata": {},
   "outputs": [
    {
     "name": "stdout",
     "output_type": "stream",
     "text": [
      "Overwriting reducer.py\n"
     ]
    }
   ],
   "source": [
    "%%writefile reducer.py\n",
    "#!/usr/bin/env python\n",
    "\n",
    "import sys\n",
    "if __name__ == '__main__':\n",
    "\n",
    "    datos = sys.stdin.readlines()\n",
    "    datos.sort()\n",
    "    contador=1\n",
    "    for line in datos:\n",
    "        data, date, letter = line.split(\"\\t\")\n",
    "        data = int(data)\n",
    "        letter = letter.replace('\\n','')\n",
    "        if contador<=6:\n",
    "            sys.stdout.write(\"{}\\t{}\\t{}\\n\".format(letter, date,data) )\n",
    "            contador+=1\n",
    "        else:\n",
    "            break\n",
    "            pass"
   ]
  },
  {
   "cell_type": "markdown",
   "metadata": {},
   "source": [
    "## Ejecución"
   ]
  },
  {
   "cell_type": "code",
   "execution_count": 12,
   "metadata": {},
   "outputs": [
    {
     "name": "stdout",
     "output_type": "stream",
     "text": [
      "C\t1994-07-27\t1\n",
      "C\t1991-02-12\t2\n",
      "A\t1990-07-22\t4\n",
      "A\t1990-09-26\t5\n",
      "B\t1997-04-09\t6\n",
      "E\t1998-09-14\t7\n"
     ]
    },
    {
     "name": "stderr",
     "output_type": "stream",
     "text": [
      "2018-11-05 17:26:51,411 WARN util.NativeCodeLoader: Unable to load native-hadoop library for your platform... using builtin-java classes where applicable\n",
      "2018-11-05 17:26:52,354 INFO impl.MetricsConfig: loaded properties from hadoop-metrics2.properties\n",
      "2018-11-05 17:26:52,468 INFO impl.MetricsSystemImpl: Scheduled Metric snapshot period at 10 second(s).\n",
      "2018-11-05 17:26:52,468 INFO impl.MetricsSystemImpl: JobTracker metrics system started\n",
      "2018-11-05 17:26:52,496 WARN impl.MetricsSystemImpl: JobTracker metrics system already initialized!\n",
      "2018-11-05 17:26:53,091 INFO mapred.FileInputFormat: Total input files to process : 1\n",
      "2018-11-05 17:26:53,186 INFO mapreduce.JobSubmitter: number of splits:1\n",
      "2018-11-05 17:26:53,495 INFO mapreduce.JobSubmitter: Submitting tokens for job: job_local1470234675_0001\n",
      "2018-11-05 17:26:53,498 INFO mapreduce.JobSubmitter: Executing with tokens: []\n",
      "2018-11-05 17:26:53,759 INFO mapreduce.Job: The url to track the job: http://localhost:8080/\n",
      "2018-11-05 17:26:53,761 INFO mapred.LocalJobRunner: OutputCommitter set in config null\n",
      "2018-11-05 17:26:53,762 INFO mapreduce.Job: Running job: job_local1470234675_0001\n",
      "2018-11-05 17:26:53,764 INFO mapred.LocalJobRunner: OutputCommitter is org.apache.hadoop.mapred.FileOutputCommitter\n",
      "2018-11-05 17:26:53,772 INFO output.FileOutputCommitter: File Output Committer Algorithm version is 2\n",
      "2018-11-05 17:26:53,772 INFO output.FileOutputCommitter: FileOutputCommitter skip cleanup _temporary folders under output directory:false, ignore cleanup failures: false\n",
      "2018-11-05 17:26:53,859 INFO mapred.LocalJobRunner: Waiting for map tasks\n",
      "2018-11-05 17:26:53,864 INFO mapred.LocalJobRunner: Starting task: attempt_local1470234675_0001_m_000000_0\n",
      "2018-11-05 17:26:53,901 INFO output.FileOutputCommitter: File Output Committer Algorithm version is 2\n",
      "2018-11-05 17:26:53,901 INFO output.FileOutputCommitter: FileOutputCommitter skip cleanup _temporary folders under output directory:false, ignore cleanup failures: false\n",
      "2018-11-05 17:26:53,918 INFO util.ProcfsBasedProcessTree: ProcfsBasedProcessTree currently is supported only on Linux.\n",
      "2018-11-05 17:26:53,919 INFO mapred.Task:  Using ResourceCalculatorProcessTree : null\n",
      "2018-11-05 17:26:53,933 INFO mapred.MapTask: Processing split: file:/Users/eduardogomez/Talleres_Analitica_Grandes_Datos/input.txt:0+802\n",
      "2018-11-05 17:26:53,952 INFO mapred.MapTask: numReduceTasks: 1\n",
      "2018-11-05 17:26:54,126 INFO mapred.MapTask: (EQUATOR) 0 kvi 26214396(104857584)\n",
      "2018-11-05 17:26:54,131 INFO mapred.MapTask: mapreduce.task.io.sort.mb: 100\n",
      "2018-11-05 17:26:54,131 INFO mapred.MapTask: soft limit at 83886080\n",
      "2018-11-05 17:26:54,131 INFO mapred.MapTask: bufstart = 0; bufvoid = 104857600\n",
      "2018-11-05 17:26:54,131 INFO mapred.MapTask: kvstart = 26214396; length = 6553600\n",
      "2018-11-05 17:26:54,146 INFO mapred.MapTask: Map output collector class = org.apache.hadoop.mapred.MapTask$MapOutputBuffer\n",
      "2018-11-05 17:26:54,163 INFO streaming.PipeMapRed: PipeMapRed exec [/Users/eduardogomez/Talleres_Analitica_Grandes_Datos/./mapper.py]\n",
      "2018-11-05 17:26:54,173 INFO Configuration.deprecation: mapred.work.output.dir is deprecated. Instead, use mapreduce.task.output.dir\n",
      "2018-11-05 17:26:54,175 INFO Configuration.deprecation: map.input.start is deprecated. Instead, use mapreduce.map.input.start\n",
      "2018-11-05 17:26:54,175 INFO Configuration.deprecation: mapred.task.is.map is deprecated. Instead, use mapreduce.task.ismap\n",
      "2018-11-05 17:26:54,176 INFO Configuration.deprecation: mapred.task.id is deprecated. Instead, use mapreduce.task.attempt.id\n",
      "2018-11-05 17:26:54,176 INFO Configuration.deprecation: mapred.tip.id is deprecated. Instead, use mapreduce.task.id\n",
      "2018-11-05 17:26:54,176 INFO Configuration.deprecation: mapred.local.dir is deprecated. Instead, use mapreduce.cluster.local.dir\n",
      "2018-11-05 17:26:54,177 INFO Configuration.deprecation: map.input.file is deprecated. Instead, use mapreduce.map.input.file\n",
      "2018-11-05 17:26:54,177 INFO Configuration.deprecation: mapred.skip.on is deprecated. Instead, use mapreduce.job.skiprecords\n",
      "2018-11-05 17:26:54,178 INFO Configuration.deprecation: map.input.length is deprecated. Instead, use mapreduce.map.input.length\n",
      "2018-11-05 17:26:54,178 INFO Configuration.deprecation: mapred.job.id is deprecated. Instead, use mapreduce.job.id\n",
      "2018-11-05 17:26:54,179 INFO Configuration.deprecation: user.name is deprecated. Instead, use mapreduce.job.user.name\n",
      "2018-11-05 17:26:54,179 INFO Configuration.deprecation: mapred.task.partition is deprecated. Instead, use mapreduce.task.partition\n",
      "2018-11-05 17:26:54,222 INFO streaming.PipeMapRed: R/W/S=1/0/0 in:NA [rec/s] out:NA [rec/s]\n",
      "2018-11-05 17:26:54,223 INFO streaming.PipeMapRed: R/W/S=10/0/0 in:NA [rec/s] out:NA [rec/s]\n",
      "2018-11-05 17:26:54,297 INFO streaming.PipeMapRed: Records R/W=40/1\n",
      "2018-11-05 17:26:54,302 INFO streaming.PipeMapRed: MRErrorThread done\n",
      "2018-11-05 17:26:54,302 INFO streaming.PipeMapRed: mapRedFinished\n",
      "2018-11-05 17:26:54,307 INFO mapred.LocalJobRunner: \n",
      "2018-11-05 17:26:54,308 INFO mapred.MapTask: Starting flush of map output\n",
      "2018-11-05 17:26:54,308 INFO mapred.MapTask: Spilling map output\n",
      "2018-11-05 17:26:54,308 INFO mapred.MapTask: bufstart = 0; bufend = 720; bufvoid = 104857600\n",
      "2018-11-05 17:26:54,308 INFO mapred.MapTask: kvstart = 26214396(104857584); kvend = 26214240(104856960); length = 157/6553600\n",
      "2018-11-05 17:26:54,350 INFO mapred.MapTask: Finished spill 0\n",
      "2018-11-05 17:26:54,380 INFO mapred.Task: Task:attempt_local1470234675_0001_m_000000_0 is done. And is in the process of committing\n",
      "2018-11-05 17:26:54,383 INFO mapred.LocalJobRunner: Records R/W=40/1\n",
      "2018-11-05 17:26:54,383 INFO mapred.Task: Task 'attempt_local1470234675_0001_m_000000_0' done.\n",
      "2018-11-05 17:26:54,398 INFO mapred.Task: Final Counters for attempt_local1470234675_0001_m_000000_0: Counters: 17\n",
      "\tFile System Counters\n",
      "\t\tFILE: Number of bytes read=177288\n",
      "\t\tFILE: Number of bytes written=686558\n",
      "\t\tFILE: Number of read operations=0\n",
      "\t\tFILE: Number of large read operations=0\n",
      "\t\tFILE: Number of write operations=0\n",
      "\tMap-Reduce Framework\n",
      "\t\tMap input records=40\n",
      "\t\tMap output records=40\n",
      "\t\tMap output bytes=720\n",
      "\t\tMap output materialized bytes=806\n",
      "\t\tInput split bytes=119\n",
      "\t\tCombine input records=0\n",
      "\t\tSpilled Records=40\n",
      "\t\tFailed Shuffles=0\n",
      "\t\tMerged Map outputs=0\n",
      "\t\tGC time elapsed (ms)=0\n",
      "\t\tTotal committed heap usage (bytes)=215482368\n",
      "\tFile Input Format Counters \n",
      "\t\tBytes Read=802\n",
      "2018-11-05 17:26:54,398 INFO mapred.LocalJobRunner: Finishing task: attempt_local1470234675_0001_m_000000_0\n",
      "2018-11-05 17:26:54,399 INFO mapred.LocalJobRunner: map task executor complete.\n",
      "2018-11-05 17:26:54,405 INFO mapred.LocalJobRunner: Waiting for reduce tasks\n",
      "2018-11-05 17:26:54,406 INFO mapred.LocalJobRunner: Starting task: attempt_local1470234675_0001_r_000000_0\n",
      "2018-11-05 17:26:54,437 INFO output.FileOutputCommitter: File Output Committer Algorithm version is 2\n",
      "2018-11-05 17:26:54,437 INFO output.FileOutputCommitter: FileOutputCommitter skip cleanup _temporary folders under output directory:false, ignore cleanup failures: false\n",
      "2018-11-05 17:26:54,438 INFO util.ProcfsBasedProcessTree: ProcfsBasedProcessTree currently is supported only on Linux.\n",
      "2018-11-05 17:26:54,438 INFO mapred.Task:  Using ResourceCalculatorProcessTree : null\n",
      "2018-11-05 17:26:54,442 INFO mapred.ReduceTask: Using ShuffleConsumerPlugin: org.apache.hadoop.mapreduce.task.reduce.Shuffle@ab4ac27\n",
      "2018-11-05 17:26:54,444 WARN impl.MetricsSystemImpl: JobTracker metrics system already initialized!\n",
      "2018-11-05 17:26:54,468 INFO reduce.MergeManagerImpl: MergerManager: memoryLimit=668309888, maxSingleShuffleLimit=167077472, mergeThreshold=441084544, ioSortFactor=10, memToMemMergeOutputsThreshold=10\n",
      "2018-11-05 17:26:54,472 INFO reduce.EventFetcher: attempt_local1470234675_0001_r_000000_0 Thread started: EventFetcher for fetching Map Completion Events\n",
      "2018-11-05 17:26:54,507 INFO reduce.LocalFetcher: localfetcher#1 about to shuffle output of map attempt_local1470234675_0001_m_000000_0 decomp: 802 len: 806 to MEMORY\n",
      "2018-11-05 17:26:54,519 INFO reduce.InMemoryMapOutput: Read 802 bytes from map-output for attempt_local1470234675_0001_m_000000_0\n",
      "2018-11-05 17:26:54,522 INFO reduce.MergeManagerImpl: closeInMemoryFile -> map-output of size: 802, inMemoryMapOutputs.size() -> 1, commitMemory -> 0, usedMemory ->802\n",
      "2018-11-05 17:26:54,524 INFO reduce.EventFetcher: EventFetcher is interrupted.. Returning\n",
      "2018-11-05 17:26:54,525 INFO mapred.LocalJobRunner: 1 / 1 copied.\n",
      "2018-11-05 17:26:54,526 INFO reduce.MergeManagerImpl: finalMerge called with 1 in-memory map-outputs and 0 on-disk map-outputs\n",
      "2018-11-05 17:26:54,544 INFO mapred.Merger: Merging 1 sorted segments\n",
      "2018-11-05 17:26:54,545 INFO mapred.Merger: Down to the last merge-pass, with 1 segments left of total size: 795 bytes\n",
      "2018-11-05 17:26:54,558 INFO reduce.MergeManagerImpl: Merged 1 segments, 802 bytes to disk to satisfy reduce memory limit\n",
      "2018-11-05 17:26:54,559 INFO reduce.MergeManagerImpl: Merging 1 files, 806 bytes from disk\n",
      "2018-11-05 17:26:54,560 INFO reduce.MergeManagerImpl: Merging 0 segments, 0 bytes from memory into reduce\n",
      "2018-11-05 17:26:54,560 INFO mapred.Merger: Merging 1 sorted segments\n",
      "2018-11-05 17:26:54,561 INFO mapred.Merger: Down to the last merge-pass, with 1 segments left of total size: 795 bytes\n",
      "2018-11-05 17:26:54,561 INFO mapred.LocalJobRunner: 1 / 1 copied.\n",
      "2018-11-05 17:26:54,572 INFO streaming.PipeMapRed: PipeMapRed exec [/Users/eduardogomez/Talleres_Analitica_Grandes_Datos/./reducer.py]\n",
      "2018-11-05 17:26:54,575 INFO Configuration.deprecation: mapred.job.tracker is deprecated. Instead, use mapreduce.jobtracker.address\n",
      "2018-11-05 17:26:54,576 INFO Configuration.deprecation: mapred.map.tasks is deprecated. Instead, use mapreduce.job.maps\n",
      "2018-11-05 17:26:54,646 INFO streaming.PipeMapRed: R/W/S=1/0/0 in:NA [rec/s] out:NA [rec/s]\n",
      "2018-11-05 17:26:54,646 INFO streaming.PipeMapRed: R/W/S=10/0/0 in:NA [rec/s] out:NA [rec/s]\n",
      "2018-11-05 17:26:54,676 INFO streaming.PipeMapRed: Records R/W=40/1\n",
      "2018-11-05 17:26:54,682 INFO streaming.PipeMapRed: MRErrorThread done\n",
      "2018-11-05 17:26:54,682 INFO streaming.PipeMapRed: mapRedFinished\n",
      "2018-11-05 17:26:54,684 INFO mapred.Task: Task:attempt_local1470234675_0001_r_000000_0 is done. And is in the process of committing\n",
      "2018-11-05 17:26:54,685 INFO mapred.LocalJobRunner: 1 / 1 copied.\n",
      "2018-11-05 17:26:54,685 INFO mapred.Task: Task attempt_local1470234675_0001_r_000000_0 is allowed to commit now\n",
      "2018-11-05 17:26:54,688 INFO output.FileOutputCommitter: Saved output of task 'attempt_local1470234675_0001_r_000000_0' to file:/Users/eduardogomez/Talleres_Analitica_Grandes_Datos/output\n",
      "2018-11-05 17:26:54,689 INFO mapred.LocalJobRunner: Records R/W=40/1 > reduce\n",
      "2018-11-05 17:26:54,690 INFO mapred.Task: Task 'attempt_local1470234675_0001_r_000000_0' done.\n",
      "2018-11-05 17:26:54,690 INFO mapred.Task: Final Counters for attempt_local1470234675_0001_r_000000_0: Counters: 24\n",
      "\tFile System Counters\n",
      "\t\tFILE: Number of bytes read=178932\n",
      "\t\tFILE: Number of bytes written=687466\n",
      "\t\tFILE: Number of read operations=0\n",
      "\t\tFILE: Number of large read operations=0\n",
      "\t\tFILE: Number of write operations=0\n",
      "\tMap-Reduce Framework\n",
      "\t\tCombine input records=0\n",
      "\t\tCombine output records=0\n",
      "\t\tReduce input groups=24\n",
      "\t\tReduce shuffle bytes=806\n",
      "\t\tReduce input records=40\n",
      "\t\tReduce output records=6\n",
      "\t\tSpilled Records=40\n",
      "\t\tShuffled Maps =1\n",
      "\t\tFailed Shuffles=0\n",
      "\t\tMerged Map outputs=1\n",
      "\t\tGC time elapsed (ms)=0\n",
      "\t\tTotal committed heap usage (bytes)=216006656\n",
      "\tShuffle Errors\n",
      "\t\tBAD_ID=0\n",
      "\t\tCONNECTION=0\n",
      "\t\tIO_ERROR=0\n",
      "\t\tWRONG_LENGTH=0\n",
      "\t\tWRONG_MAP=0\n",
      "\t\tWRONG_REDUCE=0\n",
      "\tFile Output Format Counters \n",
      "\t\tBytes Written=102\n",
      "2018-11-05 17:26:54,691 INFO mapred.LocalJobRunner: Finishing task: attempt_local1470234675_0001_r_000000_0\n",
      "2018-11-05 17:26:54,691 INFO mapred.LocalJobRunner: reduce task executor complete.\n",
      "2018-11-05 17:26:54,775 INFO mapreduce.Job: Job job_local1470234675_0001 running in uber mode : false\n",
      "2018-11-05 17:26:54,777 INFO mapreduce.Job:  map 100% reduce 100%\n",
      "2018-11-05 17:26:54,780 INFO mapreduce.Job: Job job_local1470234675_0001 completed successfully\n",
      "2018-11-05 17:26:54,793 INFO mapreduce.Job: Counters: 30\n",
      "\tFile System Counters\n",
      "\t\tFILE: Number of bytes read=356220\n",
      "\t\tFILE: Number of bytes written=1374024\n",
      "\t\tFILE: Number of read operations=0\n",
      "\t\tFILE: Number of large read operations=0\n",
      "\t\tFILE: Number of write operations=0\n",
      "\tMap-Reduce Framework\n",
      "\t\tMap input records=40\n",
      "\t\tMap output records=40\n",
      "\t\tMap output bytes=720\n",
      "\t\tMap output materialized bytes=806\n",
      "\t\tInput split bytes=119\n",
      "\t\tCombine input records=0\n",
      "\t\tCombine output records=0\n",
      "\t\tReduce input groups=24\n",
      "\t\tReduce shuffle bytes=806\n",
      "\t\tReduce input records=40\n",
      "\t\tReduce output records=6\n",
      "\t\tSpilled Records=80\n",
      "\t\tShuffled Maps =1\n",
      "\t\tFailed Shuffles=0\n",
      "\t\tMerged Map outputs=1\n",
      "\t\tGC time elapsed (ms)=0\n",
      "\t\tTotal committed heap usage (bytes)=431489024\n",
      "\tShuffle Errors\n",
      "\t\tBAD_ID=0\n",
      "\t\tCONNECTION=0\n",
      "\t\tIO_ERROR=0\n",
      "\t\tWRONG_LENGTH=0\n",
      "\t\tWRONG_MAP=0\n",
      "\t\tWRONG_REDUCE=0\n",
      "\tFile Input Format Counters \n",
      "\t\tBytes Read=802\n",
      "\tFile Output Format Counters \n",
      "\t\tBytes Written=102\n",
      "2018-11-05 17:26:54,793 INFO streaming.StreamJob: Output directory: output\n"
     ]
    }
   ],
   "source": [
    "%%bash\n",
    "rm -rf output\n",
    "STREAM=$HADOOP_HOME/share/hadoop/tools/lib/hadoop-streaming-*.jar\n",
    "chmod +x mapper.py\n",
    "chmod +x reducer.py\n",
    "hadoop jar $STREAM -input input.txt -output output  -mapper mapper.py -reducer reducer.py\n",
    "cat output/part-00000"
   ]
  },
  {
   "cell_type": "code",
   "execution_count": 13,
   "metadata": {},
   "outputs": [],
   "source": [
    "!rm -rf mapper.py reducer.py output input.txt"
   ]
  },
  {
   "cell_type": "markdown",
   "metadata": {},
   "source": [
    "---"
   ]
  },
  {
   "cell_type": "markdown",
   "metadata": {},
   "source": [
    "Para realizar la evaluación automática de este libro:\n",
    "\n",
    "* Abra un Terminal.\n",
    "* Asegurece que esat en la misma carpeta que contiene este notebook.\n",
    "* Salve el notebook.\n",
    "* Ejecute el siguiente comando:\n",
    "\n",
    "      ./gradetool 10-Taller.ipynb"
   ]
  },
  {
   "cell_type": "markdown",
   "metadata": {},
   "source": [
    "---"
   ]
  }
 ],
 "metadata": {
  "kernelspec": {
   "display_name": "Python 3",
   "language": "python",
   "name": "python3"
  },
  "language_info": {
   "codemirror_mode": {
    "name": "ipython",
    "version": 3
   },
   "file_extension": ".py",
   "mimetype": "text/x-python",
   "name": "python",
   "nbconvert_exporter": "python",
   "pygments_lexer": "ipython3",
   "version": "3.6.5"
  },
  "toc": {
   "base_numbering": 1,
   "nav_menu": {},
   "number_sections": false,
   "sideBar": true,
   "skip_h1_title": true,
   "title_cell": "Table of Contents",
   "title_sidebar": "Contents",
   "toc_cell": false,
   "toc_position": {},
   "toc_section_display": true,
   "toc_window_display": true
  },
  "toc-autonumbering": false
 },
 "nbformat": 4,
 "nbformat_minor": 2
}
