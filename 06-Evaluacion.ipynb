{
 "cells": [
  {
   "cell_type": "markdown",
   "metadata": {},
   "source": [
    "**Recuerde no agregar o quitar celdas en este notebook, ni modificar su tipo. Si lo hace, el sistema automaticamente lo calificará con cero punto cero (0.0)**"
   ]
  },
  {
   "cell_type": "markdown",
   "metadata": {},
   "source": [
    "Obtenga la cantidad de registros por mes para el siguiente archivo."
   ]
  },
  {
   "cell_type": "code",
   "execution_count": 1,
   "metadata": {},
   "outputs": [
    {
     "name": "stdout",
     "output_type": "stream",
     "text": [
      "Writing input.txt\n"
     ]
    }
   ],
   "source": [
    "%%writefile input.txt\n",
    "B   1999-08-28   14\n",
    "E   1999-12-06   12\n",
    "E   1993-07-21   17\n",
    "C   1991-02-12   13\n",
    "E   1995-04-25   16\n",
    "A   1992-08-22   14\n",
    "B   1999-06-11   12\n",
    "E   1993-01-27   13\n",
    "E   1999-09-10   11\n",
    "E   1990-05-03   16\n",
    "E   1994-02-14   10\n",
    "A   1988-04-27   12\n",
    "A   1990-10-06   10\n",
    "E   1985-02-12   16\n",
    "E   1998-09-14   16\n",
    "B   1994-08-30   17\n",
    "A   1997-12-15   13\n",
    "B   1995-08-23   10\n",
    "B   1998-11-22   13\n",
    "B   1997-04-09   14\n",
    "E   1993-12-27   18\n",
    "E   1999-01-14   15\n",
    "A   1992-09-19   18\n",
    "B   1993-03-02   14\n",
    "B   1999-10-21   13\n",
    "A   1990-08-31   12\n",
    "C   1994-01-25   10\n",
    "E   1990-02-09   18\n",
    "A   1990-09-26   14\n",
    "A   1993-05-08   16\n",
    "B   1995-09-06   14\n",
    "E   1991-02-18   14\n",
    "A   1993-01-11   14\n",
    "A   1990-07-22   18\n",
    "C   1994-09-09   15\n",
    "C   1994-07-27   10\n",
    "D   1990-10-10   15\n",
    "A   1990-09-05   11\n",
    "B   1991-10-01   15\n",
    "A   1994-10-25   13"
   ]
  },
  {
   "cell_type": "markdown",
   "metadata": {},
   "source": [
    "## Mapper"
   ]
  },
  {
   "cell_type": "code",
   "execution_count": 2,
   "metadata": {},
   "outputs": [
    {
     "name": "stdout",
     "output_type": "stream",
     "text": [
      "Writing mapper.py\n"
     ]
    }
   ],
   "source": [
    "%%writefile mapper.py\n",
    "#! /usr/bin/env python\n",
    "\n",
    "import sys\n",
    "if __name__ == \"__main__\": \n",
    "    for line in sys.stdin:\n",
    "        word=line.split()[1]\n",
    "        word_end=word.split('-')[1]\n",
    "        \n",
    "        sys.stdout.write(\"{}\\t1\\n\".format(word_end))\n",
    "    sys.stdout.write(\"{}\\t1\\n\".format('FINAL'))\n",
    "    pass"
   ]
  },
  {
   "cell_type": "markdown",
   "metadata": {},
   "source": [
    "## Reducer"
   ]
  },
  {
   "cell_type": "code",
   "execution_count": 3,
   "metadata": {},
   "outputs": [
    {
     "name": "stdout",
     "output_type": "stream",
     "text": [
      "Writing reducer.py\n"
     ]
    }
   ],
   "source": [
    "%%writefile reducer.py\n",
    "#!/usr/bin/env python\n",
    "\n",
    "import sys\n",
    "if __name__ == '__main__': \n",
    "    curkey = None\n",
    "    total = 0\n",
    "    for line in sys.stdin:\n",
    "        key, val = line.split(\"\\t\") \n",
    "        val = int(val)\n",
    "        if key == curkey: \n",
    "            total += val  \n",
    "        else:\n",
    "            if curkey is not None or key == 'FINAL':\n",
    "                sys.stdout.write(\"{}\\t{}\\n\".format(curkey, total)) \n",
    "            curkey = key\n",
    "            total = val\n",
    "    pass"
   ]
  },
  {
   "cell_type": "markdown",
   "metadata": {},
   "source": [
    "## Ejecución"
   ]
  },
  {
   "cell_type": "code",
   "execution_count": 4,
   "metadata": {},
   "outputs": [
    {
     "name": "stdout",
     "output_type": "stream",
     "text": [
      "01\t4\n",
      "02\t5\n",
      "03\t1\n",
      "04\t3\n",
      "05\t2\n",
      "06\t1\n",
      "07\t3\n",
      "08\t5\n",
      "09\t7\n",
      "10\t5\n",
      "11\t1\n",
      "12\t3\n"
     ]
    },
    {
     "name": "stderr",
     "output_type": "stream",
     "text": [
      "2018-11-05 16:47:24,114 WARN util.NativeCodeLoader: Unable to load native-hadoop library for your platform... using builtin-java classes where applicable\n",
      "2018-11-05 16:47:25,182 INFO impl.MetricsConfig: loaded properties from hadoop-metrics2.properties\n",
      "2018-11-05 16:47:25,320 INFO impl.MetricsSystemImpl: Scheduled Metric snapshot period at 10 second(s).\n",
      "2018-11-05 16:47:25,321 INFO impl.MetricsSystemImpl: JobTracker metrics system started\n",
      "2018-11-05 16:47:25,365 WARN impl.MetricsSystemImpl: JobTracker metrics system already initialized!\n",
      "2018-11-05 16:47:26,134 INFO mapred.FileInputFormat: Total input files to process : 1\n",
      "2018-11-05 16:47:26,260 INFO mapreduce.JobSubmitter: number of splits:1\n",
      "2018-11-05 16:47:26,706 INFO mapreduce.JobSubmitter: Submitting tokens for job: job_local1911491610_0001\n",
      "2018-11-05 16:47:26,710 INFO mapreduce.JobSubmitter: Executing with tokens: []\n",
      "2018-11-05 16:47:27,055 INFO mapred.LocalJobRunner: OutputCommitter set in config null\n",
      "2018-11-05 16:47:27,058 INFO mapred.LocalJobRunner: OutputCommitter is org.apache.hadoop.mapred.FileOutputCommitter\n",
      "2018-11-05 16:47:27,060 INFO mapreduce.Job: The url to track the job: http://localhost:8080/\n",
      "2018-11-05 16:47:27,078 INFO output.FileOutputCommitter: File Output Committer Algorithm version is 2\n",
      "2018-11-05 16:47:27,078 INFO output.FileOutputCommitter: FileOutputCommitter skip cleanup _temporary folders under output directory:false, ignore cleanup failures: false\n",
      "2018-11-05 16:47:27,081 INFO mapreduce.Job: Running job: job_local1911491610_0001\n",
      "2018-11-05 16:47:27,239 INFO mapred.LocalJobRunner: Waiting for map tasks\n",
      "2018-11-05 16:47:27,246 INFO mapred.LocalJobRunner: Starting task: attempt_local1911491610_0001_m_000000_0\n",
      "2018-11-05 16:47:27,289 INFO output.FileOutputCommitter: File Output Committer Algorithm version is 2\n",
      "2018-11-05 16:47:27,289 INFO output.FileOutputCommitter: FileOutputCommitter skip cleanup _temporary folders under output directory:false, ignore cleanup failures: false\n",
      "2018-11-05 16:47:27,304 INFO util.ProcfsBasedProcessTree: ProcfsBasedProcessTree currently is supported only on Linux.\n",
      "2018-11-05 16:47:27,305 INFO mapred.Task:  Using ResourceCalculatorProcessTree : null\n",
      "2018-11-05 16:47:27,320 INFO mapred.MapTask: Processing split: file:/Users/eduardogomez/Talleres_Analitica_Grandes_Datos/input.txt:0+799\n",
      "2018-11-05 16:47:27,337 INFO mapred.MapTask: numReduceTasks: 1\n",
      "2018-11-05 16:47:27,486 INFO mapred.MapTask: (EQUATOR) 0 kvi 26214396(104857584)\n",
      "2018-11-05 16:47:27,495 INFO mapred.MapTask: mapreduce.task.io.sort.mb: 100\n",
      "2018-11-05 16:47:27,506 INFO mapred.MapTask: soft limit at 83886080\n",
      "2018-11-05 16:47:27,506 INFO mapred.MapTask: bufstart = 0; bufvoid = 104857600\n",
      "2018-11-05 16:47:27,506 INFO mapred.MapTask: kvstart = 26214396; length = 6553600\n",
      "2018-11-05 16:47:27,519 INFO mapred.MapTask: Map output collector class = org.apache.hadoop.mapred.MapTask$MapOutputBuffer\n",
      "2018-11-05 16:47:27,543 INFO streaming.PipeMapRed: PipeMapRed exec [/Users/eduardogomez/Talleres_Analitica_Grandes_Datos/./mapper.py]\n",
      "2018-11-05 16:47:27,556 INFO Configuration.deprecation: mapred.work.output.dir is deprecated. Instead, use mapreduce.task.output.dir\n",
      "2018-11-05 16:47:27,560 INFO Configuration.deprecation: map.input.start is deprecated. Instead, use mapreduce.map.input.start\n",
      "2018-11-05 16:47:27,562 INFO Configuration.deprecation: mapred.task.is.map is deprecated. Instead, use mapreduce.task.ismap\n",
      "2018-11-05 16:47:27,563 INFO Configuration.deprecation: mapred.task.id is deprecated. Instead, use mapreduce.task.attempt.id\n",
      "2018-11-05 16:47:27,566 INFO Configuration.deprecation: mapred.tip.id is deprecated. Instead, use mapreduce.task.id\n",
      "2018-11-05 16:47:27,567 INFO Configuration.deprecation: mapred.local.dir is deprecated. Instead, use mapreduce.cluster.local.dir\n",
      "2018-11-05 16:47:27,568 INFO Configuration.deprecation: map.input.file is deprecated. Instead, use mapreduce.map.input.file\n",
      "2018-11-05 16:47:27,569 INFO Configuration.deprecation: mapred.skip.on is deprecated. Instead, use mapreduce.job.skiprecords\n",
      "2018-11-05 16:47:27,570 INFO Configuration.deprecation: map.input.length is deprecated. Instead, use mapreduce.map.input.length\n",
      "2018-11-05 16:47:27,571 INFO Configuration.deprecation: mapred.job.id is deprecated. Instead, use mapreduce.job.id\n",
      "2018-11-05 16:47:27,572 INFO Configuration.deprecation: user.name is deprecated. Instead, use mapreduce.job.user.name\n",
      "2018-11-05 16:47:27,572 INFO Configuration.deprecation: mapred.task.partition is deprecated. Instead, use mapreduce.task.partition\n",
      "2018-11-05 16:47:27,653 INFO streaming.PipeMapRed: R/W/S=1/0/0 in:NA [rec/s] out:NA [rec/s]\n",
      "2018-11-05 16:47:27,659 INFO streaming.PipeMapRed: R/W/S=10/0/0 in:NA [rec/s] out:NA [rec/s]\n",
      "2018-11-05 16:47:27,767 INFO streaming.PipeMapRed: Records R/W=40/1\n",
      "2018-11-05 16:47:27,772 INFO streaming.PipeMapRed: MRErrorThread done\n",
      "2018-11-05 16:47:27,772 INFO streaming.PipeMapRed: mapRedFinished\n",
      "2018-11-05 16:47:27,778 INFO mapred.LocalJobRunner: \n",
      "2018-11-05 16:47:27,778 INFO mapred.MapTask: Starting flush of map output\n",
      "2018-11-05 16:47:27,778 INFO mapred.MapTask: Spilling map output\n",
      "2018-11-05 16:47:27,778 INFO mapred.MapTask: bufstart = 0; bufend = 208; bufvoid = 104857600\n",
      "2018-11-05 16:47:27,778 INFO mapred.MapTask: kvstart = 26214396(104857584); kvend = 26214236(104856944); length = 161/6553600\n",
      "2018-11-05 16:47:27,825 INFO mapred.MapTask: Finished spill 0\n",
      "2018-11-05 16:47:27,851 INFO mapred.Task: Task:attempt_local1911491610_0001_m_000000_0 is done. And is in the process of committing\n",
      "2018-11-05 16:47:27,855 INFO mapred.LocalJobRunner: Records R/W=40/1\n",
      "2018-11-05 16:47:27,855 INFO mapred.Task: Task 'attempt_local1911491610_0001_m_000000_0' done.\n",
      "2018-11-05 16:47:27,868 INFO mapred.Task: Final Counters for attempt_local1911491610_0001_m_000000_0: Counters: 17\n",
      "\tFile System Counters\n",
      "\t\tFILE: Number of bytes read=177285\n",
      "\t\tFILE: Number of bytes written=686048\n",
      "\t\tFILE: Number of read operations=0\n",
      "\t\tFILE: Number of large read operations=0\n",
      "\t\tFILE: Number of write operations=0\n",
      "\tMap-Reduce Framework\n",
      "\t\tMap input records=40\n",
      "\t\tMap output records=41\n",
      "\t\tMap output bytes=208\n",
      "\t\tMap output materialized bytes=296\n",
      "\t\tInput split bytes=119\n",
      "\t\tCombine input records=0\n",
      "\t\tSpilled Records=41\n",
      "\t\tFailed Shuffles=0\n",
      "\t\tMerged Map outputs=0\n",
      "\t\tGC time elapsed (ms)=0\n",
      "\t\tTotal committed heap usage (bytes)=216530944\n",
      "\tFile Input Format Counters \n",
      "\t\tBytes Read=799\n",
      "2018-11-05 16:47:27,869 INFO mapred.LocalJobRunner: Finishing task: attempt_local1911491610_0001_m_000000_0\n",
      "2018-11-05 16:47:27,870 INFO mapred.LocalJobRunner: map task executor complete.\n",
      "2018-11-05 16:47:27,874 INFO mapred.LocalJobRunner: Waiting for reduce tasks\n",
      "2018-11-05 16:47:27,874 INFO mapred.LocalJobRunner: Starting task: attempt_local1911491610_0001_r_000000_0\n",
      "2018-11-05 16:47:27,923 INFO output.FileOutputCommitter: File Output Committer Algorithm version is 2\n",
      "2018-11-05 16:47:27,923 INFO output.FileOutputCommitter: FileOutputCommitter skip cleanup _temporary folders under output directory:false, ignore cleanup failures: false\n",
      "2018-11-05 16:47:27,924 INFO util.ProcfsBasedProcessTree: ProcfsBasedProcessTree currently is supported only on Linux.\n",
      "2018-11-05 16:47:27,924 INFO mapred.Task:  Using ResourceCalculatorProcessTree : null\n",
      "2018-11-05 16:47:27,931 INFO mapred.ReduceTask: Using ShuffleConsumerPlugin: org.apache.hadoop.mapreduce.task.reduce.Shuffle@3456315a\n",
      "2018-11-05 16:47:27,934 WARN impl.MetricsSystemImpl: JobTracker metrics system already initialized!\n",
      "2018-11-05 16:47:27,972 INFO reduce.MergeManagerImpl: MergerManager: memoryLimit=668309888, maxSingleShuffleLimit=167077472, mergeThreshold=441084544, ioSortFactor=10, memToMemMergeOutputsThreshold=10\n",
      "2018-11-05 16:47:27,981 INFO reduce.EventFetcher: attempt_local1911491610_0001_r_000000_0 Thread started: EventFetcher for fetching Map Completion Events\n",
      "2018-11-05 16:47:28,034 INFO reduce.LocalFetcher: localfetcher#1 about to shuffle output of map attempt_local1911491610_0001_m_000000_0 decomp: 292 len: 296 to MEMORY\n",
      "2018-11-05 16:47:28,049 INFO reduce.InMemoryMapOutput: Read 292 bytes from map-output for attempt_local1911491610_0001_m_000000_0\n",
      "2018-11-05 16:47:28,054 INFO reduce.MergeManagerImpl: closeInMemoryFile -> map-output of size: 292, inMemoryMapOutputs.size() -> 1, commitMemory -> 0, usedMemory ->292\n",
      "2018-11-05 16:47:28,057 INFO reduce.EventFetcher: EventFetcher is interrupted.. Returning\n",
      "2018-11-05 16:47:28,058 INFO mapred.LocalJobRunner: 1 / 1 copied.\n",
      "2018-11-05 16:47:28,059 INFO reduce.MergeManagerImpl: finalMerge called with 1 in-memory map-outputs and 0 on-disk map-outputs\n",
      "2018-11-05 16:47:28,089 INFO mapred.Merger: Merging 1 sorted segments\n",
      "2018-11-05 16:47:28,089 INFO mapred.Merger: Down to the last merge-pass, with 1 segments left of total size: 287 bytes\n",
      "2018-11-05 16:47:28,102 INFO mapreduce.Job: Job job_local1911491610_0001 running in uber mode : false\n",
      "2018-11-05 16:47:28,106 INFO mapreduce.Job:  map 100% reduce 0%\n",
      "2018-11-05 16:47:28,109 INFO reduce.MergeManagerImpl: Merged 1 segments, 292 bytes to disk to satisfy reduce memory limit\n",
      "2018-11-05 16:47:28,112 INFO reduce.MergeManagerImpl: Merging 1 files, 296 bytes from disk\n",
      "2018-11-05 16:47:28,113 INFO reduce.MergeManagerImpl: Merging 0 segments, 0 bytes from memory into reduce\n",
      "2018-11-05 16:47:28,113 INFO mapred.Merger: Merging 1 sorted segments\n",
      "2018-11-05 16:47:28,114 INFO mapred.Merger: Down to the last merge-pass, with 1 segments left of total size: 287 bytes\n",
      "2018-11-05 16:47:28,115 INFO mapred.LocalJobRunner: 1 / 1 copied.\n",
      "2018-11-05 16:47:28,132 INFO streaming.PipeMapRed: PipeMapRed exec [/Users/eduardogomez/Talleres_Analitica_Grandes_Datos/./reducer.py]\n",
      "2018-11-05 16:47:28,137 INFO Configuration.deprecation: mapred.job.tracker is deprecated. Instead, use mapreduce.jobtracker.address\n",
      "2018-11-05 16:47:28,138 INFO Configuration.deprecation: mapred.map.tasks is deprecated. Instead, use mapreduce.job.maps\n",
      "2018-11-05 16:47:28,208 INFO streaming.PipeMapRed: R/W/S=1/0/0 in:NA [rec/s] out:NA [rec/s]\n",
      "2018-11-05 16:47:28,210 INFO streaming.PipeMapRed: R/W/S=10/0/0 in:NA [rec/s] out:NA [rec/s]\n",
      "2018-11-05 16:47:28,246 INFO streaming.PipeMapRed: Records R/W=41/1\n",
      "2018-11-05 16:47:28,253 INFO streaming.PipeMapRed: MRErrorThread done\n",
      "2018-11-05 16:47:28,253 INFO streaming.PipeMapRed: mapRedFinished\n",
      "2018-11-05 16:47:28,255 INFO mapred.Task: Task:attempt_local1911491610_0001_r_000000_0 is done. And is in the process of committing\n",
      "2018-11-05 16:47:28,256 INFO mapred.LocalJobRunner: 1 / 1 copied.\n",
      "2018-11-05 16:47:28,256 INFO mapred.Task: Task attempt_local1911491610_0001_r_000000_0 is allowed to commit now\n",
      "2018-11-05 16:47:28,261 INFO output.FileOutputCommitter: Saved output of task 'attempt_local1911491610_0001_r_000000_0' to file:/Users/eduardogomez/Talleres_Analitica_Grandes_Datos/output\n",
      "2018-11-05 16:47:28,263 INFO mapred.LocalJobRunner: Records R/W=41/1 > reduce\n",
      "2018-11-05 16:47:28,263 INFO mapred.Task: Task 'attempt_local1911491610_0001_r_000000_0' done.\n",
      "2018-11-05 16:47:28,264 INFO mapred.Task: Final Counters for attempt_local1911491610_0001_r_000000_0: Counters: 24\n",
      "\tFile System Counters\n",
      "\t\tFILE: Number of bytes read=177909\n",
      "\t\tFILE: Number of bytes written=686416\n",
      "\t\tFILE: Number of read operations=0\n",
      "\t\tFILE: Number of large read operations=0\n",
      "\t\tFILE: Number of write operations=0\n",
      "\tMap-Reduce Framework\n",
      "\t\tCombine input records=0\n",
      "\t\tCombine output records=0\n",
      "\t\tReduce input groups=13\n",
      "\t\tReduce shuffle bytes=296\n",
      "\t\tReduce input records=41\n",
      "\t\tReduce output records=12\n",
      "\t\tSpilled Records=41\n",
      "\t\tShuffled Maps =1\n",
      "\t\tFailed Shuffles=0\n",
      "\t\tMerged Map outputs=1\n",
      "\t\tGC time elapsed (ms)=0\n",
      "\t\tTotal committed heap usage (bytes)=217055232\n",
      "\tShuffle Errors\n",
      "\t\tBAD_ID=0\n",
      "\t\tCONNECTION=0\n",
      "\t\tIO_ERROR=0\n",
      "\t\tWRONG_LENGTH=0\n",
      "\t\tWRONG_MAP=0\n",
      "\t\tWRONG_REDUCE=0\n",
      "\tFile Output Format Counters \n",
      "\t\tBytes Written=72\n",
      "2018-11-05 16:47:28,265 INFO mapred.LocalJobRunner: Finishing task: attempt_local1911491610_0001_r_000000_0\n",
      "2018-11-05 16:47:28,265 INFO mapred.LocalJobRunner: reduce task executor complete.\n",
      "2018-11-05 16:47:29,111 INFO mapreduce.Job:  map 100% reduce 100%\n",
      "2018-11-05 16:47:29,111 INFO mapreduce.Job: Job job_local1911491610_0001 completed successfully\n",
      "2018-11-05 16:47:29,128 INFO mapreduce.Job: Counters: 30\n",
      "\tFile System Counters\n",
      "\t\tFILE: Number of bytes read=355194\n",
      "\t\tFILE: Number of bytes written=1372464\n",
      "\t\tFILE: Number of read operations=0\n",
      "\t\tFILE: Number of large read operations=0\n",
      "\t\tFILE: Number of write operations=0\n",
      "\tMap-Reduce Framework\n",
      "\t\tMap input records=40\n",
      "\t\tMap output records=41\n",
      "\t\tMap output bytes=208\n",
      "\t\tMap output materialized bytes=296\n",
      "\t\tInput split bytes=119\n",
      "\t\tCombine input records=0\n",
      "\t\tCombine output records=0\n",
      "\t\tReduce input groups=13\n",
      "\t\tReduce shuffle bytes=296\n",
      "\t\tReduce input records=41\n",
      "\t\tReduce output records=12\n",
      "\t\tSpilled Records=82\n",
      "\t\tShuffled Maps =1\n",
      "\t\tFailed Shuffles=0\n",
      "\t\tMerged Map outputs=1\n",
      "\t\tGC time elapsed (ms)=0\n",
      "\t\tTotal committed heap usage (bytes)=433586176\n",
      "\tShuffle Errors\n",
      "\t\tBAD_ID=0\n",
      "\t\tCONNECTION=0\n",
      "\t\tIO_ERROR=0\n",
      "\t\tWRONG_LENGTH=0\n",
      "\t\tWRONG_MAP=0\n",
      "\t\tWRONG_REDUCE=0\n",
      "\tFile Input Format Counters \n",
      "\t\tBytes Read=799\n",
      "\tFile Output Format Counters \n",
      "\t\tBytes Written=72\n",
      "2018-11-05 16:47:29,128 INFO streaming.StreamJob: Output directory: output\n"
     ]
    }
   ],
   "source": [
    "%%bash\n",
    "rm -rf output\n",
    "STREAM=$HADOOP_HOME/share/hadoop/tools/lib/hadoop-streaming-*.jar\n",
    "chmod +x mapper.py\n",
    "chmod +x reducer.py\n",
    "hadoop jar $STREAM -input input.txt -output output  -mapper mapper.py -reducer reducer.py\n",
    "cat output/part-00000"
   ]
  },
  {
   "cell_type": "code",
   "execution_count": 5,
   "metadata": {},
   "outputs": [],
   "source": [
    "!rm -rf mapper.py reducer.py output input.txt"
   ]
  },
  {
   "cell_type": "markdown",
   "metadata": {},
   "source": [
    "---"
   ]
  },
  {
   "cell_type": "markdown",
   "metadata": {},
   "source": [
    "Para realizar la evaluación automática de este libro:\n",
    "\n",
    "* Abra un Terminal.\n",
    "* Asegurece que esat en la misma carpeta que contiene este notebook.\n",
    "* Salve el notebook.\n",
    "* Ejecute el siguiente comando:\n",
    "\n",
    "      ./gradetool 06--Taller.ipynb"
   ]
  },
  {
   "cell_type": "markdown",
   "metadata": {},
   "source": [
    "---"
   ]
  }
 ],
 "metadata": {
  "kernelspec": {
   "display_name": "Python 3",
   "language": "python",
   "name": "python3"
  },
  "language_info": {
   "codemirror_mode": {
    "name": "ipython",
    "version": 3
   },
   "file_extension": ".py",
   "mimetype": "text/x-python",
   "name": "python",
   "nbconvert_exporter": "python",
   "pygments_lexer": "ipython3",
   "version": "3.6.5"
  },
  "toc": {
   "base_numbering": 1,
   "nav_menu": {},
   "number_sections": false,
   "sideBar": true,
   "skip_h1_title": true,
   "title_cell": "Table of Contents",
   "title_sidebar": "Contents",
   "toc_cell": false,
   "toc_position": {},
   "toc_section_display": true,
   "toc_window_display": true
  },
  "toc-autonumbering": false
 },
 "nbformat": 4,
 "nbformat_minor": 2
}
